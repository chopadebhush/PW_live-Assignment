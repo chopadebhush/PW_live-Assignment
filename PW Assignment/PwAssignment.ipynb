{
 "cells": [
  {
   "cell_type": "markdown",
   "id": "d91b73c5-7b58-4f50-b900-7d4f7b49538e",
   "metadata": {},
   "source": [
    "#### Q 1.1  Write the answer to these question ?"
   ]
  },
  {
   "cell_type": "markdown",
   "id": "1cd49530-e09d-4cb0-a606-58cd191d54c1",
   "metadata": {},
   "source": [
    "#### 1. What is differance betweeen static and dynamic variable in python ?"
   ]
  },
  {
   "cell_type": "markdown",
   "id": "93849fe3-4c64-4b92-a4e0-604aa0f57694",
   "metadata": {},
   "source": [
    "Ans :\n",
    "\n",
    "    Static :\n",
    "\n",
    "    the static variable says that variable check before execution of programs.\n",
    "    example: C,C++,Java\n",
    "\n",
    "    dynamic:\n",
    "    the variable check during execution of code.\n",
    "    Example: Python\n"
   ]
  },
  {
   "cell_type": "markdown",
   "id": "1fd0a51d-f8d3-4caa-844f-6b522c20cebb",
   "metadata": {},
   "source": [
    "#### 2. Explian the purpose pop ,popiteam, clear in dictionary with suitable example ?"
   ]
  },
  {
   "cell_type": "markdown",
   "id": "03d595f5-b9b8-4468-8190-6b309f0b6f1c",
   "metadata": {},
   "source": [
    "Ans :\n",
    "\n",
    "    Pop : In term of dictionary POP is used to remove iteam from dictionary.\n",
    "\n",
    "    Pop iteam : Pop iteam is used to remove last iteam form dictionary.\n",
    "\n",
    "    clear : clear function is used to clear entire dictionary."
   ]
  },
  {
   "cell_type": "markdown",
   "id": "72c818cd-fa80-4094-a0be-1a28bdebadb1",
   "metadata": {},
   "source": [
    "#### 3. what do mean by frozen set explain the suitable example ?"
   ]
  },
  {
   "cell_type": "markdown",
   "id": "47ecb835-3beb-4875-962d-0f138aa9106f",
   "metadata": {},
   "source": [
    "Ans :\n",
    "    frozen set return unchangeble frozenset objects. "
   ]
  },
  {
   "cell_type": "code",
   "execution_count": 2,
   "id": "031269a0-36c3-45e8-9997-5b3b505a75ac",
   "metadata": {},
   "outputs": [
    {
     "ename": "TypeError",
     "evalue": "'frozenset' object does not support item assignment",
     "output_type": "error",
     "traceback": [
      "\u001b[1;31m---------------------------------------------------------------------------\u001b[0m",
      "\u001b[1;31mTypeError\u001b[0m                                 Traceback (most recent call last)",
      "Cell \u001b[1;32mIn[2], line 3\u001b[0m\n\u001b[0;32m      1\u001b[0m my_list \u001b[38;5;241m=\u001b[39m[\u001b[38;5;124m\"\u001b[39m\u001b[38;5;124mapple\u001b[39m\u001b[38;5;124m\"\u001b[39m,\u001b[38;5;124m\"\u001b[39m\u001b[38;5;124mbanana\u001b[39m\u001b[38;5;124m\"\u001b[39m,\u001b[38;5;124m\"\u001b[39m\u001b[38;5;124mlemon\u001b[39m\u001b[38;5;124m\"\u001b[39m]\n\u001b[0;32m      2\u001b[0m frzset \u001b[38;5;241m=\u001b[39m\u001b[38;5;28mfrozenset\u001b[39m(my_list)\n\u001b[1;32m----> 3\u001b[0m \u001b[43mfrzset\u001b[49m\u001b[43m[\u001b[49m\u001b[38;5;241;43m1\u001b[39;49m\u001b[43m]\u001b[49m \u001b[38;5;241m=\u001b[39m\u001b[38;5;124m\"\u001b[39m\u001b[38;5;124mgreen\u001b[39m\u001b[38;5;124m\"\u001b[39m\n",
      "\u001b[1;31mTypeError\u001b[0m: 'frozenset' object does not support item assignment"
     ]
    }
   ],
   "source": [
    "my_list =[\"apple\",\"banana\",\"lemon\"]\n",
    "frzset =frozenset(my_list)\n",
    "frzset[1] =\"green\""
   ]
  },
  {
   "cell_type": "markdown",
   "id": "078aa8d3-8694-4fa3-9039-2814b547f2b3",
   "metadata": {},
   "source": [
    "#### 4. differentiate between mutable & immutable data type in python and give example of mutable & immutable data types ?"
   ]
  },
  {
   "cell_type": "markdown",
   "id": "c9e7ffdc-02c6-4204-bb29-31d58abc5232",
   "metadata": {},
   "source": [
    "Ans :\n",
    "\n",
    "    Mutable :\n",
    "    Mutable data type mean we can chnage after the define of datatype.\n",
    "    Example : list,dictionary\n",
    "\n",
    "    Immutable :\n",
    "    It mean we cant change it after the define of it.\n",
    "    Example : int, float,bool,string,tuple"
   ]
  },
  {
   "cell_type": "markdown",
   "id": "7006b62a-1e3e-4b4c-b0ee-3ac2f6d0cf73",
   "metadata": {},
   "source": [
    "#### 5. What is __init__ explain with example ?"
   ]
  },
  {
   "cell_type": "markdown",
   "id": "1a0914c4-6234-421a-8b77-54b0214dd135",
   "metadata": {},
   "source": [
    "Ans :\n",
    "\n",
    "    Init is constructor in OOPS concepts.it is used to take arugument within class.\n",
    "    there are 3 type of constructor \n",
    "    1. default constructor\n",
    "    2. parameterized constructor\n",
    "    3. Non parameterized constructor"
   ]
  },
  {
   "cell_type": "markdown",
   "id": "24e4d726-7049-4688-a0ed-e5be6c6b939b",
   "metadata": {},
   "source": [
    "#### 6. What is docstring in python ? explain with the example ?"
   ]
  },
  {
   "cell_type": "markdown",
   "id": "b3947bbe-e453-4e1d-af65-f306f6b02109",
   "metadata": {},
   "source": [
    "Ans :\n",
    "\n",
    "    Doc string is also known as multiline string it is giving convinient way to create documentation. Declaring Docstrings: The docstrings are declared using ”’triple single quotes”’ or “”” triple double quotes “”” just below the class, method, or function declaration. All functions should have a docstring."
   ]
  },
  {
   "cell_type": "markdown",
   "id": "8b125251-e78a-4381-adad-93a5a8ec575f",
   "metadata": {},
   "source": [
    "#### 7. What are unit test in python ?"
   ]
  },
  {
   "cell_type": "markdown",
   "id": "81dad480-1fbe-40db-9cc9-c05b07001f40",
   "metadata": {},
   "source": [
    "Ans :\n",
    "\n",
    "    Unit tests are segments of code written to test other pieces of code, typically a single function or method, that we refer to as a unit. They are a very important part of the software development process, as they help to ensure that code works as intended and catch bugs early on"
   ]
  },
  {
   "cell_type": "markdown",
   "id": "42d6ad44-5acd-4f38-bf6c-175dd2a7064d",
   "metadata": {},
   "source": [
    "#### 8. What is break,continue & pass in the python ?"
   ]
  },
  {
   "cell_type": "markdown",
   "id": "878f193b-198e-49c8-bb64-ab2b4f77f7d9",
   "metadata": {},
   "source": [
    "Ans :\n",
    "\n",
    "    Break : Break statement is used to break the loop if the condition is true.\n",
    "\n",
    "    pass : Pass statement is used to fill the empty block of code.\n",
    "\n",
    "    continue : it is used to skip the current itration of loop whine the condfition is true."
   ]
  },
  {
   "cell_type": "markdown",
   "id": "7c782de5-d16a-49c5-b98b-d48cdc236231",
   "metadata": {},
   "source": [
    "#### 9.what is use of self in python ?"
   ]
  },
  {
   "cell_type": "markdown",
   "id": "833a0c0f-35ea-4929-9273-d5d8efc79abe",
   "metadata": {},
   "source": [
    "Ans :\n",
    "\n",
    "    self keyoword is used in OOPs. it is used to give referenace to class or it is bind the method with class."
   ]
  },
  {
   "cell_type": "markdown",
   "id": "b10b3f4f-9baa-4bb6-aac3-5c0cf9e581ac",
   "metadata": {},
   "source": [
    "#### 10.what are global, protected, private attribute in python ?"
   ]
  },
  {
   "cell_type": "markdown",
   "id": "17402de3-5b67-4f68-95c3-999c8607a298",
   "metadata": {},
   "source": [
    "Ans :\n",
    "\n",
    "    Global attribute : We can use global attribute within class or outside of class.\n",
    "\n",
    "    Protected attribute : we can access pritected method or variable only within class.\n",
    "\n",
    "    Private attribute : we cant acess the private method or varibale wihin class or outside of class."
   ]
  },
  {
   "cell_type": "markdown",
   "id": "23478ee9-2311-4640-961d-175ac4d230de",
   "metadata": {},
   "source": [
    "#### 11. What are modules and packages in python ?"
   ]
  },
  {
   "cell_type": "markdown",
   "id": "fda0a6df-1935-4c29-a8eb-fb865a010614",
   "metadata": {},
   "source": [
    "Ans :\n",
    "\n",
    "    A module is a single file containing Python code, whereas a package is a collection of modules that are organized in a directory hierarchy"
   ]
  },
  {
   "cell_type": "markdown",
   "id": "9461c1e6-002e-4bc2-af80-449d12dabba9",
   "metadata": {},
   "source": [
    "#### 12. what are the list & tuple ? what is differance betwween two ?"
   ]
  },
  {
   "cell_type": "markdown",
   "id": "93c59ae6-17b2-4fe8-b8b0-007b2fde28f4",
   "metadata": {},
   "source": [
    "Ans :\n",
    "\n",
    "    List : list is used to store the mutilple iteeam in single variable.list iteam are order,changeble, index its allow duplicate.\n",
    "\n",
    "    tuples :tuple is used store the multiple iteams in single variable. tuple iteams are order ,unchangeble,indexed,it allow duplicated values"
   ]
  },
  {
   "cell_type": "markdown",
   "id": "2ba2bffb-d89e-44e3-a0f1-6972ee52e661",
   "metadata": {},
   "source": [
    "#### Q13. what is an interpreted language & dynamically type language write 5 differance between them?"
   ]
  },
  {
   "cell_type": "markdown",
   "id": "3088ba42-39ba-40f3-bb2e-0ff279517f3b",
   "metadata": {},
   "source": [
    "Ans :\n",
    "\n",
    "    Interpreted language : Interpreted language mean it is executing code line by line.\n",
    "    dynamically type language : In dynamically type language the data type is checking during the execution of program.\n",
    "\n",
    "   Differanmce :\n",
    "\n",
    "    DYNMAMICS LANGUAGE\t& INTERPRETED LANGUAGE\n",
    "1\tA compiled language is a programming language whose implementations are typically compilers and not interpreters.\tAn interpreted language is a programming language whose implementations execute instructions directly and freely, without previously compiling a program into machine-language instructions.\n",
    "\n",
    "\n",
    "2\tIn this language, once the program is compiled it is expressed in the instructions of the target machine.\tWhile in this language, the instructions are not directly executed by the target machine.\n",
    "\n",
    "3\tThere are at least two steps to get from source code to execution.\tThere is only one step to get from source code to execution.\n",
    "\n",
    "4\tIn this language, compiled programs run faster than interpreted programs.\tWhile in this language, interpreted programs can be modified while the program is running.\n",
    "5\tIn this language, compilation errors prevent the code from compiling.\tIn this languages, all the debugging occurs at run-time.\n",
    "\n",
    "6\tThe code of compiled language can be executed directly by the computer’s CPU.\tA program written in an interpreted language is not compiled, it is interpreted.\n",
    "\n",
    "\n",
    "7\tThis language delivers better performance.\tThis language example delivers relatively slower performance."
   ]
  },
  {
   "cell_type": "markdown",
   "id": "1eab8de5-57c3-4343-9937-f0f5494b6e64",
   "metadata": {},
   "source": [
    "#### Q14. What are dict & list comphrension ?"
   ]
  },
  {
   "cell_type": "markdown",
   "id": "1016e852-f8f2-4b94-9c0e-c6a9931640be",
   "metadata": {},
   "source": [
    "Ans :\n",
    "\n",
    "    List comprehensions and dictionary comprehensions are a powerful substitute to for-loops and also lambda functions. Not only do list and dictionary comprehensions make code more concise and easier to read, they are also faster than traditional for-loops"
   ]
  },
  {
   "cell_type": "markdown",
   "id": "8d4d8d28-e7ce-434a-91a7-7b7e87c82842",
   "metadata": {},
   "source": [
    "#### 15. what are decorators in python? explain example usecase of decorator ?"
   ]
  },
  {
   "cell_type": "markdown",
   "id": "c8e2ea43-0f94-4a1e-9e34-44ae67d153ab",
   "metadata": {},
   "source": [
    "Ans :\n",
    "\n",
    "    A decorator is a design pattern that allows you to modify the functionality of a function by wrapping it in another function.\n",
    "\n",
    "    usecase :\n",
    "\n",
    "    when you want to add functionality like logging, caching, or authentication to existing functions without modifying their source code."
   ]
  },
  {
   "cell_type": "code",
   "execution_count": null,
   "id": "9230b6c8-42d3-4a4f-8ee0-839414e087e6",
   "metadata": {},
   "outputs": [],
   "source": [
    "def outer(x):\n",
    "    def inner(y):\n",
    "        return x + y\n",
    "    return inner\n",
    "\n",
    "add_five = outer(5)\n",
    "result = add_five(6)\n",
    "print(result)  # prints 11"
   ]
  },
  {
   "cell_type": "markdown",
   "id": "9edf45ee-b083-48a4-84d6-6662d24a7e48",
   "metadata": {},
   "source": [
    "#### 16. How memory manage in python ?"
   ]
  },
  {
   "cell_type": "markdown",
   "id": "4632310f-dc26-4fef-927c-8e5528934454",
   "metadata": {},
   "source": [
    "Ans :\n",
    "\n",
    "    Dynamic allocation occurs as the program is running. This means that as the program operates, it can dynamically determine where to allocate memory while reusing and releasing it"
   ]
  },
  {
   "cell_type": "markdown",
   "id": "0d9899dd-937c-42e6-9617-0a782ef026c8",
   "metadata": {},
   "source": [
    "#### 17. what is lambda function? why it is used ?"
   ]
  },
  {
   "cell_type": "markdown",
   "id": "6369e3fd-d656-4336-be04-0e781c612a31",
   "metadata": {},
   "source": [
    "Ans :\n",
    "\n",
    "     lambda is an anoymous function which can take multiple argument in single expression.\n",
    "     why we used :\n",
    "\n",
    "    1.Supports single-line sometimes statements that return some value.\n",
    "\n",
    "    2.Good for performing short operations/data manipulations.\n",
    "\n",
    "    3.Using the lambda function can sometime reduce the readability of code."
   ]
  },
  {
   "cell_type": "markdown",
   "id": "46234e49-888c-4ae3-883b-1ba9c230f602",
   "metadata": {},
   "source": [
    "#### 18. Explain the split and join function in python ?"
   ]
  },
  {
   "cell_type": "markdown",
   "id": "4d7cff96-9727-45e6-abab-9cfed8dccc1c",
   "metadata": {},
   "source": [
    "Ans :\n",
    "\n",
    "  Split function : Split function is used to split the element in list & return it.\n",
    "\n",
    "Join function : Join function is used to join the string data in single string."
   ]
  },
  {
   "cell_type": "markdown",
   "id": "3c374f6c-4686-4534-b16c-22752d2d6043",
   "metadata": {},
   "source": [
    "#### 19. What are iterator iterable & generator in python ?"
   ]
  },
  {
   "cell_type": "markdown",
   "id": "daf9a3a9-c2b5-4936-b269-9353970a5034",
   "metadata": {},
   "source": [
    "Ans :\n",
    "\n",
    "    iterator :Iterators are the objects that use the next() method to get the next value of the sequence.\n",
    "\n",
    "    Generator : A generator is a function that produces or yields a sequence of values using a yield statement.\n",
    "\n",
    "    iterable : Iterable is an object which can be looped over or iterated over with the help of a for loop"
   ]
  },
  {
   "cell_type": "markdown",
   "id": "e6202329-460a-4800-aedb-2b0705fb2173",
   "metadata": {},
   "source": [
    "#### 20. what is the differance between Xrange & range in python ?"
   ]
  },
  {
   "cell_type": "markdown",
   "id": "7b42f906-00b0-426e-bd7d-ff2921f8633d",
   "metadata": {},
   "source": [
    "Ans :\n",
    "\n",
    "    Range := Python Range is use to produce the sequence of integer values.the range() function in Python is used in Python 3.x. \n",
    "\n",
    "    Xrange : python X range is used to produce the sequence of integer values.The Python xrange() is used only in Python 2.x"
   ]
  },
  {
   "cell_type": "markdown",
   "id": "c1367143-e989-468d-a2ff-586d8f196619",
   "metadata": {},
   "source": [
    "#### 21. Piller of OOPS"
   ]
  },
  {
   "cell_type": "markdown",
   "id": "1f54ba46-8376-4027-ab42-8d8b5f3b22ae",
   "metadata": {},
   "source": [
    "Ans :\n",
    "\n",
    "    There are 4 piller of OOPS:\n",
    "\n",
    "    1. Encapsulation \n",
    "    2. Inheritance \n",
    "    3. Abstraction \n",
    "    4. Polymorphism"
   ]
  },
  {
   "cell_type": "markdown",
   "id": "a04f83c2-8035-4562-ab57-b360888ad7dd",
   "metadata": {},
   "source": [
    "#### 22. How will you check if class is child of another class ?`"
   ]
  },
  {
   "cell_type": "markdown",
   "id": "184a5054-4ab9-4da3-acbc-c8fdd9fc914b",
   "metadata": {},
   "source": [
    "Ans :\n",
    "\n",
    "    Python issubclass() is a built-in function used to check if a class is a subclass of another class or not. This function returns True if the given class is the subclass of the given class else it returns False. We can determine class inheritance in Python by using issubclass()"
   ]
  },
  {
   "cell_type": "markdown",
   "id": "cdb6b5bd-7e38-4e13-a52b-0972dc00c04d",
   "metadata": {},
   "source": [
    "#### 23. How does Inheritance work in python ? Explain all the type of Inheritance with example?"
   ]
  },
  {
   "cell_type": "markdown",
   "id": "50eb84f2-de6f-4ee2-b401-4d54ad83d3fa",
   "metadata": {},
   "source": [
    "Ans :\n",
    "\n",
    "\n",
    "    Inheritance :\n",
    "\n",
    "        Inheritance is the principle of OOPS it state that the child class is inherit to it parent class.\n",
    "        it mean child class have authority to access the method & attribute of parent class."
   ]
  },
  {
   "cell_type": "markdown",
   "id": "fc4e4e69-0afd-42b1-bf1e-8d2bd8c5c7f4",
   "metadata": {},
   "source": [
    "Type Of Inheritance \n",
    "\n",
    "1. single level inheritance\n",
    "2. multi level inheritance\n",
    "3. hierarchical inheritance\n",
    "4. multi Inheritance."
   ]
  },
  {
   "cell_type": "markdown",
   "id": "50a0349b-6c2e-40a7-83ae-abf516b9be7b",
   "metadata": {},
   "source": [
    "#### single Level :\n",
    "\n",
    "Single inheritance enables a derived class to inherit properties from a single parent class, thus enabling code reusability and the addition of new features to existing code."
   ]
  },
  {
   "cell_type": "code",
   "execution_count": null,
   "id": "dd62f53f-b1f9-458e-9b36-3ee404e8b77a",
   "metadata": {},
   "outputs": [],
   "source": [
    "class parent :\n",
    "\n",
    "    def Parent(self):\n",
    "        print(\"I m your parent\")\n",
    "\n",
    "class child(parent):\n",
    "\n",
    "    def Child(self):\n",
    "        print(\"I m your child\")\n",
    "\n",
    "### Driver code\n",
    "obj =child()\n",
    "obj.Parent()\n",
    "obj.Child()"
   ]
  },
  {
   "cell_type": "markdown",
   "id": "bbb44dab-63cb-4f7d-a8d5-6eace8968ce2",
   "metadata": {},
   "source": [
    "#### multi level inheritance\n",
    "\n",
    "When a class can be derived from more than one base class this type of inheritance is called multiple inheritances. In multiple inheritances, all the features of the base classes are inherited into the derived class"
   ]
  },
  {
   "cell_type": "code",
   "execution_count": null,
   "id": "1cdbf15d-76e7-4a02-a61f-2ab766430b23",
   "metadata": {},
   "outputs": [],
   "source": [
    "class father :\n",
    "\n",
    "    def father_name(self,name):\n",
    "        self.name = name\n",
    "\n",
    "class Mother :\n",
    "\n",
    "    def mother_name(self,mname):\n",
    "        self.mname =mname\n",
    "\n",
    "class child(father ,Mother):\n",
    "    def child_name(self,child_name):\n",
    "        self.child_name =child_name\n",
    "\n",
    "\n",
    "# driver code\n",
    "obj =child()\n",
    "obj.father_name(\"ABC\")\n",
    "obj.mother_name(\"BDC\")"
   ]
  },
  {
   "cell_type": "code",
   "execution_count": null,
   "id": "010efef4-1fab-4f31-86b9-b48ec857e6ed",
   "metadata": {},
   "outputs": [],
   "source": [
    "obj.child_name(\"RTY\")"
   ]
  },
  {
   "cell_type": "code",
   "execution_count": null,
   "id": "03d67899-5d1b-4e68-9bed-597f4b8e97b3",
   "metadata": {},
   "outputs": [],
   "source": [
    "obj.name,obj.child_name,obj.mname"
   ]
  },
  {
   "cell_type": "markdown",
   "id": "0a370a20-2d6c-439d-9155-256f3371e477",
   "metadata": {},
   "source": [
    "#### Hierarchical Inheritance: \n",
    "\n"
   ]
  },
  {
   "cell_type": "markdown",
   "id": "0e0644a1-f140-40b2-91ef-911d7f4f1d81",
   "metadata": {},
   "source": [
    "When more than one derived class are created from a single base this type of inheritance is called hierarchical inheritance."
   ]
  },
  {
   "cell_type": "code",
   "execution_count": null,
   "id": "7ee6c9c5-2f85-4c0e-9ce3-a9497d2902bb",
   "metadata": {},
   "outputs": [],
   "source": [
    "# Base class\n",
    "class Parent:\n",
    "    def func1(self):\n",
    "        print(\"This function is in parent class.\")\n",
    " \n",
    "# Derived class1\n",
    " \n",
    " \n",
    "class Child1(Parent):\n",
    "    def func2(self):\n",
    "        print(\"This function is in child 1.\")\n",
    " \n",
    "# Derivied class2\n",
    " \n",
    " \n",
    "class Child2(Parent):\n",
    "    def func3(self):\n",
    "        print(\"This function is in child 2.\")\n",
    " \n",
    " \n",
    "# Driver's code\n",
    "object1 = Child1()\n",
    "object2 = Child2()\n",
    "object1.func1()\n",
    "object1.func2()\n",
    "object2.func1()\n",
    "object2.func3()"
   ]
  },
  {
   "cell_type": "markdown",
   "id": "916c696d-d79e-4cb2-b75b-6037630d583e",
   "metadata": {},
   "source": [
    "#### Multiple Inheritance: \n",
    "\n",
    "When a class can be derived from more than one base class this type of inheritance is called multiple inheritances."
   ]
  },
  {
   "cell_type": "code",
   "execution_count": null,
   "id": "5df0c7d1-78f6-4654-a99b-0cef2becb145",
   "metadata": {},
   "outputs": [],
   "source": [
    "# Base class1\n",
    "class Mother:\n",
    "    mothername = \"\"\n",
    " \n",
    "    def mother(self):\n",
    "        print(self.mothername)\n",
    " \n",
    "# Base class2\n",
    " \n",
    " \n",
    "class Father:\n",
    "    fathername = \"\"\n",
    " \n",
    "    def father(self):\n",
    "        print(self.fathername)\n",
    " \n",
    "# Derived class\n",
    " \n",
    " \n",
    "class Son(Mother, Father):\n",
    "    def parents(self):\n",
    "        print(\"Father :\", self.fathername)\n",
    "        print(\"Mother :\", self.mothername)\n",
    " \n",
    " \n",
    "# Driver's code\n",
    "s1 = Son()\n",
    "s1.fathername = \"RAM\"\n",
    "s1.mothername = \"SITA\"\n",
    "s1.parents()"
   ]
  },
  {
   "cell_type": "markdown",
   "id": "06d96695-8426-4137-a541-ec9489ca3ff6",
   "metadata": {},
   "source": [
    "#### Multilevel Inheritance :\n",
    "In multilevel inheritance, features of the base class and the derived class are further inherited into the new derived class.\n"
   ]
  },
  {
   "cell_type": "code",
   "execution_count": null,
   "id": "7e013ad3-4e06-49ae-9538-74eb6a4fad93",
   "metadata": {},
   "outputs": [],
   "source": [
    "class Grandfather:\n",
    " \n",
    "    def __init__(self, grandfathername):\n",
    "        self.grandfathername = grandfathername\n",
    " \n",
    "# Intermediate class\n",
    " \n",
    " \n",
    "class Father(Grandfather):\n",
    "    def __init__(self, fathername, grandfathername):\n",
    "        self.fathername = fathername\n",
    " \n",
    "        # invoking constructor of Grandfather class\n",
    "        Grandfather.__init__(self, grandfathername)\n",
    " \n",
    "# Derived class\n",
    " \n",
    " \n",
    "class Son(Father):\n",
    "    def __init__(self, sonname, fathername, grandfathername):\n",
    "        self.sonname = sonname\n",
    " \n",
    "        # invoking constructor of Father class\n",
    "        Father.__init__(self, fathername, grandfathername)\n",
    " \n",
    "    def print_name(self):\n",
    "        print('Grandfather name :', self.grandfathername)\n",
    "        print(\"Father name :\", self.fathername)\n",
    "        print(\"Son name :\", self.sonname)\n",
    " \n",
    " \n",
    "#  Driver code\n",
    "s1 = Son('Prince', 'Rampal', 'Lal mani')\n",
    "print(s1.grandfathername)\n",
    "s1.print_name()"
   ]
  },
  {
   "cell_type": "markdown",
   "id": "31c2acb0-9b95-473e-bb3b-f0a8a09ca818",
   "metadata": {},
   "source": [
    "#### 24. What is encapsulation explain with its example ?"
   ]
  },
  {
   "cell_type": "markdown",
   "id": "0fe45d73-b8bd-43c8-a634-1cf4f9eca6d6",
   "metadata": {},
   "source": [
    "Ans :\n",
    "\n",
    "    Encapsulation is principle of OOPs it bind the data or state of object with method to make private \n",
    "    use getter,setter,deleter to access the private variable."
   ]
  },
  {
   "cell_type": "code",
   "execution_count": null,
   "id": "faf663be-cf24-4690-aadf-894fb6abd988",
   "metadata": {},
   "outputs": [],
   "source": [
    "# Example\n",
    "class parent :\n",
    "\n",
    "    def __init__(self,fname,lname):\n",
    "        self.__fname =fname\n",
    "        self.__lname =lname\n",
    "    def printName(self):\n",
    "        print(self.fname ,self.lname)"
   ]
  },
  {
   "cell_type": "code",
   "execution_count": null,
   "id": "1f7f7275-e383-4b50-bebf-1c97bce72cbc",
   "metadata": {},
   "outputs": [],
   "source": [
    "obj =parent(\"bhushan\",\"chopade\")"
   ]
  },
  {
   "cell_type": "code",
   "execution_count": null,
   "id": "e2b9550b-be1b-433e-832f-638b2675c3b5",
   "metadata": {},
   "outputs": [],
   "source": [
    "obj._parent__fname"
   ]
  },
  {
   "cell_type": "markdown",
   "id": "440e3a9e-3d1d-4be7-a34f-735e0ea62ba7",
   "metadata": {},
   "source": [
    "#### 25 .What is the polymorphism explain with example ?"
   ]
  },
  {
   "cell_type": "markdown",
   "id": "b14a7370-270a-473b-8c48-c39359418840",
   "metadata": {},
   "source": [
    "Ans :\n",
    "\n",
    "    polymorphism is principal of OOPS it state that if the same method is used in differant class that output will differant as per the data.\n",
    "    "
   ]
  },
  {
   "cell_type": "code",
   "execution_count": null,
   "id": "3c8a9182-86fe-45e9-b698-77809bfda0a5",
   "metadata": {},
   "outputs": [],
   "source": [
    "# Example\n",
    "class Animal :\n",
    "\n",
    "    def dog(self):\n",
    "        print(\"it is dog\")\n",
    "\n",
    "class wild :\n",
    "    def dog(self):\n",
    "        print(\"It is wild dog\")"
   ]
  },
  {
   "cell_type": "code",
   "execution_count": null,
   "id": "5e966441-f202-47dc-b318-674a82a5e4bd",
   "metadata": {},
   "outputs": [],
   "source": [
    "animal =Animal()\n",
    "animal.dog()\n",
    "\n",
    "w =wild()\n",
    "w.dog()"
   ]
  },
  {
   "cell_type": "markdown",
   "id": "57ae8088-6457-4336-9a48-50a3f6074282",
   "metadata": {},
   "source": [
    "#### Question 1. 2. Which of the following identifier names are invalid and why?\n",
    "a) Serial_no.\n",
    "\n",
    "b) Ist_Room\n",
    "\n",
    "c) Hundred$\n",
    "\n",
    "d) Total_Marks\n",
    "\n",
    "e) total-Marks\n",
    "\n",
    "f) Total Marks\n",
    "\n",
    "gq) True\n",
    "\n",
    "h) _Percentag"
   ]
  },
  {
   "cell_type": "markdown",
   "id": "5cd3599d-1b9d-4c0a-8208-ed9b89183fd4",
   "metadata": {},
   "source": [
    "Ans :\n",
    "\n",
    "1 .Hundred$\n",
    "2. total-Marks\n",
    "3. Total Marks\n",
    "4. True\n",
    "\n",
    "these are dentifier names are invalid because  ==>\n",
    "1. python doesnt allow to use any symbol in  identifier.\n",
    "2. python doesnt allow to use - in variable.\n",
    "3. python doesnt allow to use space in variable.\n",
    "4. python doesnt allow to use keyword variable."
   ]
  },
  {
   "cell_type": "markdown",
   "id": "4efe886e-fa8a-4e6c-922e-92e5cc4c313f",
   "metadata": {},
   "source": [
    "#### Question 1.3.\n",
    "name = [“Mohan’, “dash”, “karam’, “chandra’,-gandhi’,\"Bapu’]\n",
    "\n",
    "do the following operations in this list;\n",
    "\n",
    "a) add an element “freedorm_fighter’ in this list at the Oth index.\n",
    "\n",
    "b) find the output of the following ,and explain how?\n",
    "\n",
    "name = [“freedomFighter”,\"Bapuji\",\"MOhan\" “dash\", \"“karam\",\n",
    "\"chandra\", \"gandhi\" ]\n",
    "\n",
    "Lengthi=Len( (name[-Len(name)4+1:-1:2]))\n",
    "\n",
    "Length?=Len((name[-Len(name)+1:-1)))\n",
    "\n",
    "print (Lengthl+Length2)\n",
    "\n",
    "c) add two more elements in the name [\"NetaJi\",/Bose\"] at the end of the list.\n",
    "\n",
    "d) what will be the value of temp:\n",
    "\n",
    "name = [\"Bapyji’, \"dash\", “karam\",\"\n",
    "temp=namel[-1]\n",
    "name[-1]=name[0]\n",
    "name[0]=temp\n",
    "\n",
    "print(name)\n",
    "\n",
    "chandra’,\"gandi’,\"Mohan\"]"
   ]
  },
  {
   "cell_type": "code",
   "execution_count": 3,
   "id": "5b8414d6-fd5b-4c8f-ba0d-beed6d51d826",
   "metadata": {},
   "outputs": [],
   "source": [
    "# define a list \n",
    "name = [\"Mohan\",\"dash\",\"karam\",\"chandra\",\"gandhi\",\"Bapu\"]"
   ]
  },
  {
   "cell_type": "code",
   "execution_count": 4,
   "id": "4722d6ae-4595-4760-aa72-662af555c075",
   "metadata": {},
   "outputs": [
    {
     "data": {
      "text/plain": [
       "['freedom_fighter', 'Mohan', 'dash', 'karam', 'chandra', 'gandhi', 'Bapu']"
      ]
     },
     "execution_count": 4,
     "metadata": {},
     "output_type": "execute_result"
    }
   ],
   "source": [
    "# a) add an element “freedorm_fighter’ in this list at the Oth index.\n",
    "name.insert(0,\"freedom_fighter\")\n",
    "name"
   ]
  },
  {
   "cell_type": "code",
   "execution_count": 1,
   "id": "25fcd1ed-a623-450c-b10a-242d96a3b10c",
   "metadata": {},
   "outputs": [
    {
     "name": "stdout",
     "output_type": "stream",
     "text": [
      "8\n"
     ]
    }
   ],
   "source": [
    "# b) find the output of the following ,and explain how?\n",
    "\n",
    "name = [\"freedomFighter\",\"Bapuji\",\"MOhan\",\"dash\", \"karam\",\"chandra\", \"gandhi\" ]\n",
    "\n",
    "Length1 =len((name[-len(name)+1:-1:2])) ### output ==>3\n",
    "Length2 =len((name[-len(name)+1:-1])) ### output ===> 5\n",
    "print(Length1 + Length2)"
   ]
  },
  {
   "cell_type": "code",
   "execution_count": 3,
   "id": "313d5b46-a113-4554-894d-11521873f1f1",
   "metadata": {},
   "outputs": [
    {
     "data": {
      "text/plain": [
       "['Bapuji', 'MOhan', 'dash', 'karam', 'chandra']"
      ]
     },
     "execution_count": 3,
     "metadata": {},
     "output_type": "execute_result"
    }
   ],
   "source": [
    "name[-6:-1]"
   ]
  },
  {
   "cell_type": "markdown",
   "id": "2ef87e9b-f39b-4b86-a79b-0b7282508a94",
   "metadata": {},
   "source": [
    "#### How it is came ?\n",
    "Ans :\n",
    "\n",
    "   1. -len(name) +1 ==> [6] so expression is name[-6:-1:2] step is ['Bapuji', 'dash', 'chandra'] and len of these list is 3 for Length1 variable.\n",
    "\n",
    "\n",
    "  2. -len(name) +1 ==> [6] so expression is name[-6:-1:2] step is ['Bapuji', 'MOhan', 'dash', 'karam', 'chandra'] and len of these list is 5 for Length2 variable."
   ]
  },
  {
   "cell_type": "code",
   "execution_count": 6,
   "id": "bac137f3-633c-482f-a93e-b4303d8ade4e",
   "metadata": {},
   "outputs": [
    {
     "data": {
      "text/plain": [
       "['freedomFighter',\n",
       " 'Bapuji',\n",
       " 'MOhan',\n",
       " 'dash',\n",
       " 'karam',\n",
       " 'chandra',\n",
       " 'gandhi',\n",
       " 'NetaJi',\n",
       " 'Bose']"
      ]
     },
     "execution_count": 6,
     "metadata": {},
     "output_type": "execute_result"
    }
   ],
   "source": [
    "# c) add two more elements in the name [\"NetaJi\",\"Bose\"] at the end of the list.\n",
    "name.append(\"NetaJi\")\n",
    "name.append(\"Bose\")\n",
    "name"
   ]
  },
  {
   "cell_type": "code",
   "execution_count": 8,
   "id": "ef970fcb-4116-4a72-a3a0-eb5ecd566c82",
   "metadata": {},
   "outputs": [
    {
     "name": "stdout",
     "output_type": "stream",
     "text": [
      "['mohan', 'dash', 'karam', 'chandra', 'gandi', 'Bapuji']\n"
     ]
    }
   ],
   "source": [
    "# d) what will be the value of temp:\n",
    "name = [\"Bapuji\",\"dash\",\"karam\",\"chandra\",\"gandi\",\"mohan\"]\n",
    "        \n",
    "temp=name[-1]\n",
    "name[-1]=name[0]\n",
    "name[0]=temp\n",
    "\n",
    "print(name)"
   ]
  },
  {
   "cell_type": "markdown",
   "id": "5f689d9c-f5fb-42fc-9547-aeacc855a546",
   "metadata": {},
   "source": [
    "#### Question 1.4,.Find the output of the following."
   ]
  },
  {
   "cell_type": "code",
   "execution_count": 10,
   "id": "8a850543-520b-4ee1-9347-e3e1ea731eb6",
   "metadata": {},
   "outputs": [
    {
     "name": "stdout",
     "output_type": "stream",
     "text": [
      "2\n",
      "4\n"
     ]
    }
   ],
   "source": [
    "animal = [\"Human\",\"cat\",\"mat\",\"cat\",\"rat\",\"Human\",\"Lion\"]\n",
    "print(animal.count(\"Human\"))\n",
    "print(animal.index(\"rat\"))"
   ]
  },
  {
   "cell_type": "markdown",
   "id": "1d42a73c-3e74-4132-aabf-e83552adec38",
   "metadata": {},
   "source": [
    "#### Question 1.5. tuplel=(10,20,\"Apple\",3.4,'a’,[\"master\", ji\" ],(“sita\",\"“geeta\",22),[{\"roll_no\":1},\n",
    "{\"name\":\"Navneet'\"}])"
   ]
  },
  {
   "cell_type": "code",
   "execution_count": 12,
   "id": "e9ef072d-9e1d-4b98-9efe-df332547a574",
   "metadata": {},
   "outputs": [
    {
     "name": "stdout",
     "output_type": "stream",
     "text": [
      "(10, 20, 'Apple', 3.4, 'a', ['master', 'ji'], ('sita', 'geeta', 22), [{'roll_no': 1}, {'name': \"Navneet'\"}])\n"
     ]
    }
   ],
   "source": [
    "tuple1=(10,20,\"Apple\",3.4,\"a\",[\"master\",\"ji\" ],(\"sita\",\"geeta\",22),[{\"roll_no\":1},\n",
    "{\"name\":\"Navneet'\"}])\n",
    "print(tuple1)"
   ]
  },
  {
   "cell_type": "code",
   "execution_count": 13,
   "id": "9ccb1726-e92a-43b7-93e3-fb3ce0bdd776",
   "metadata": {},
   "outputs": [
    {
     "name": "stdout",
     "output_type": "stream",
     "text": [
      "8\n"
     ]
    }
   ],
   "source": [
    "# a)print(len(tuplel))\n",
    "print(len(tuple1))"
   ]
  },
  {
   "cell_type": "code",
   "execution_count": 14,
   "id": "59a6baf7-500c-4b82-8d57-c163743f98e2",
   "metadata": {},
   "outputs": [
    {
     "name": "stdout",
     "output_type": "stream",
     "text": [
      "Navneet'\n"
     ]
    }
   ],
   "source": [
    "# b)print(tuplel[-1][-1][\"name’])\n",
    "print(tuple1[-1][-1][\"name\"])"
   ]
  },
  {
   "cell_type": "code",
   "execution_count": 25,
   "id": "0e5e47b5-e82f-40ee-a58c-8f30bbc915f7",
   "metadata": {},
   "outputs": [
    {
     "data": {
      "text/plain": [
       "1"
      ]
     },
     "execution_count": 25,
     "metadata": {},
     "output_type": "execute_result"
    }
   ],
   "source": [
    "# c)fetch the value of roll_no from this tuple.\n",
    "tuple1[-1][-2][\"roll_no\"]"
   ]
  },
  {
   "cell_type": "code",
   "execution_count": 26,
   "id": "315abd8f-62f5-41e1-9b2a-81f4f6471063",
   "metadata": {},
   "outputs": [
    {
     "name": "stdout",
     "output_type": "stream",
     "text": [
      "ji\n"
     ]
    }
   ],
   "source": [
    "# d)print(tuplei[-3][1])\n",
    "print(tuple1[-3][1])"
   ]
  },
  {
   "cell_type": "code",
   "execution_count": 28,
   "id": "33d1448b-83e4-45e4-8403-e93ab75791d5",
   "metadata": {},
   "outputs": [
    {
     "name": "stdout",
     "output_type": "stream",
     "text": [
      "(10, 20, 'Apple', 3.4, 'a', ['master', 'ji'], ('sita', 'geeta', 22), [{'roll_no': 1}, {'name': \"Navneet'\"}])\n"
     ]
    }
   ],
   "source": [
    "# é)fetch the element \"22\" from this tuple.\n",
    "print(tuple1)"
   ]
  },
  {
   "cell_type": "code",
   "execution_count": 30,
   "id": "5fd0dc81-15d7-44f0-a9c0-884680c61cf6",
   "metadata": {},
   "outputs": [
    {
     "data": {
      "text/plain": [
       "22"
      ]
     },
     "execution_count": 30,
     "metadata": {},
     "output_type": "execute_result"
    }
   ],
   "source": [
    "tuple1[-2][-1]"
   ]
  },
  {
   "cell_type": "markdown",
   "id": "7ac3d700-d964-41e3-9370-f1ef6d3ac8fd",
   "metadata": {},
   "source": [
    "#### 1.6. Write a program to display the appropriate message as per the color of signal(RED-Stop/Yellow-Stay/Green-Go) at the road crossing.\n"
   ]
  },
  {
   "cell_type": "code",
   "execution_count": 40,
   "id": "d4b2616b-7200-4e93-84ee-aab45b4754a7",
   "metadata": {},
   "outputs": [
    {
     "name": "stdin",
     "output_type": "stream",
     "text": [
      "Enter the input from user ==> green\n"
     ]
    },
    {
     "name": "stdout",
     "output_type": "stream",
     "text": [
      "We can cross the signal\n"
     ]
    }
   ],
   "source": [
    "user =input(\"Enter the input from user ==>\").lower()\n",
    "try :\n",
    "    if(user ==\"red\") :\n",
    "        print(\"please stop on signal\")\n",
    "    elif(user ==\"yellow\") :\n",
    "        print(\"please stay on signal\")\n",
    "    elif(user == \"green\"):\n",
    "        print(\"We can cross the signal\")\n",
    "\n",
    "except :\n",
    "    print(\"something went wrong\")"
   ]
  },
  {
   "cell_type": "markdown",
   "id": "9de6827e-4113-48c9-9a9d-066b8fcb28c5",
   "metadata": {},
   "source": [
    "#### 1.7. Write a program to create a simple calculator performing only four basic operations(+,-,/,*)."
   ]
  },
  {
   "cell_type": "code",
   "execution_count": 48,
   "id": "20c47a91-e50f-48ee-92ff-64ce79a40f46",
   "metadata": {},
   "outputs": [
    {
     "name": "stdin",
     "output_type": "stream",
     "text": [
      "Enter input from user 123\n"
     ]
    },
    {
     "name": "stdout",
     "output_type": "stream",
     "text": [
      "user has enter wrong input\n"
     ]
    }
   ],
   "source": [
    "def calculator(n,m,operation):\n",
    "    if(operation ==\"add\"):\n",
    "        return n+m\n",
    "    elif(operation ==\"sub\"):\n",
    "        return n-m\n",
    "    elif(operation == \"mult\"):\n",
    "        return n*m\n",
    "    elif(operation == \"div\"):\n",
    "        return n/m\n",
    "    else:\n",
    "        print(\"user has enter wrong input\")\n",
    "## Driver code\n",
    "user =input(\"Enter input from user\").lower()\n",
    "calculator(10,20,user)"
   ]
  },
  {
   "cell_type": "markdown",
   "id": "008590e5-5be4-4597-a1c6-1088497c9391",
   "metadata": {},
   "source": [
    "#### 1.8. Write a program to find the larger of the three pre-specified numbers using ternary operators."
   ]
  },
  {
   "cell_type": "code",
   "execution_count": 50,
   "id": "2de0ffa5-9c56-4cd6-8e2c-62664e71d2ed",
   "metadata": {},
   "outputs": [
    {
     "name": "stdout",
     "output_type": "stream",
     "text": [
      "100\n"
     ]
    }
   ],
   "source": [
    "n =10\n",
    "m =100\n",
    "p =12\n",
    "\n",
    "max_num = n if (n > m and n > p) else (m if m > p else p)\n",
    "print(max_num)"
   ]
  },
  {
   "cell_type": "markdown",
   "id": "9aa761d4-1615-41f1-918b-e51c3668aa2b",
   "metadata": {},
   "source": [
    "####  1.9. Write a program to find the factors of a whole number using a while loop."
   ]
  },
  {
   "cell_type": "code",
   "execution_count": 51,
   "id": "07ce0c06-fb46-4f52-98ca-5bf6f6016d22",
   "metadata": {},
   "outputs": [
    {
     "name": "stdin",
     "output_type": "stream",
     "text": [
      "Enter a number to find its factor:  10\n"
     ]
    },
    {
     "name": "stdout",
     "output_type": "stream",
     "text": [
      "1 2 5 10 "
     ]
    }
   ],
   "source": [
    "#Find the factors of a number using while loop\n",
    "num = int(input(\"Enter a number to find its factor: \"))\n",
    "print (1, end=' ') #1 is a factor of every number\n",
    "factor = 2 \n",
    "while factor <= num/2 :\n",
    " if num % factor == 0:\n",
    "\n",
    "  print(factor, end=' ') \n",
    " factor += 1\n",
    "print (num, end=' ') #every number is a factor of itself"
   ]
  },
  {
   "cell_type": "markdown",
   "id": "74ea2282-0c9f-4b19-922d-48dd908a28e2",
   "metadata": {},
   "source": [
    "#### 1.10, Write a program to find the sum of all the positive numbers entered by the user. As soon as the userenters a negative number, stop taking in any further input from the user and display the sum."
   ]
  },
  {
   "cell_type": "code",
   "execution_count": 68,
   "id": "aaa4aa13-b24e-4962-a1d4-c726f31e3a8c",
   "metadata": {},
   "outputs": [
    {
     "name": "stdin",
     "output_type": "stream",
     "text": [
      "Enter the number from user 12\n",
      "Enter the number 12\n",
      "Enter the number -1\n"
     ]
    },
    {
     "name": "stdout",
     "output_type": "stream",
     "text": [
      "12\n"
     ]
    }
   ],
   "source": [
    "range_from_user =int(input(\"Enter the number from user\"))\n",
    "add = 0\n",
    "for i in range(1,range_from_user):\n",
    "     ## Taking Number from user\n",
    "    user =int(input(\"Enter the number\"))\n",
    "    ## If the number is negative break loop\n",
    "    if(user < 0 ):\n",
    "        break\n",
    "    # Start addition \n",
    "    add = add + user \n",
    "   \n",
    "   \n",
    "\n",
    "print(abs(add))"
   ]
  },
  {
   "cell_type": "markdown",
   "id": "49554724-a2a4-4555-88c4-118a4fd1fe9c",
   "metadata": {},
   "source": [
    "#### 1.11. Write a program to find prime numbers between 2 to 100 using nested for loops."
   ]
  },
  {
   "cell_type": "code",
   "execution_count": 70,
   "id": "1ccbdc8c-a198-4df5-b6c3-cfcaaa24d048",
   "metadata": {},
   "outputs": [
    {
     "name": "stdout",
     "output_type": "stream",
     "text": [
      "2 is a prime number\n",
      "3 is a prime number\n",
      "5 is a prime number\n",
      "7 is a prime number\n",
      "11 is a prime number\n",
      "13 is a prime number\n",
      "17 is a prime number\n",
      "19 is a prime number\n",
      "23 is a prime number\n",
      "29 is a prime number\n",
      "31 is a prime number\n",
      "37 is a prime number\n",
      "41 is a prime number\n",
      "43 is a prime number\n",
      "47 is a prime number\n",
      "53 is a prime number\n",
      "59 is a prime number\n",
      "61 is a prime number\n",
      "67 is a prime number\n",
      "71 is a prime number\n",
      "73 is a prime number\n",
      "79 is a prime number\n",
      "83 is a prime number\n",
      "89 is a prime number\n",
      "97 is a prime number\n"
     ]
    }
   ],
   "source": [
    "#Use of nested loops to find the prime numbers between 2 to 50\n",
    "num = 2\n",
    "for i in range(2, 100):\n",
    " j= 2\n",
    " while ( j <= (i/2)):\n",
    "  if (i % j == 0): #factor found\n",
    "   break #break out of while loop\n",
    "  j += 1\n",
    " if ( j > i/j) : #no factor found\n",
    "  print ( i, \"is a prime number\")\n"
   ]
  },
  {
   "cell_type": "markdown",
   "id": "ff6234ab-8260-4ec2-891d-8c60df471e72",
   "metadata": {},
   "source": [
    "#### 1.12. Write the programs for the following:\n",
    "+ Accept the marks of the student in five major subjects and display the same.\n",
    "\n",
    "+ Calculate the sum of the marks of all subjects.Divide the total marks by number of subjects (ie. 5), calculate\n",
    "percentage = total marks/5 and display the percentage.\n",
    "\n",
    "+ Find the grade of the student as per the following criteria . Hint: Use Match & case for this.:\n",
    "\n",
    "Criteria Grade\n",
    "\n",
    "percentage > 85 A\n",
    "\n",
    "percentage < 85 &é& percentage >= 75 B\n",
    "\n",
    "percentage < 75 && percentage >= 50 es\n",
    "\n",
    "percentage > 30 && percentage <= 50 D\n",
    "\n",
    "percentage <30 Reappear"
   ]
  },
  {
   "cell_type": "code",
   "execution_count": 73,
   "id": "d5d1f63d-73f4-4502-98b1-07714abcdf10",
   "metadata": {},
   "outputs": [
    {
     "name": "stdin",
     "output_type": "stream",
     "text": [
      "Enter the marks 98\n",
      "Enter the marks 67\n",
      "Enter the marks 78\n",
      "Enter the marks 87\n",
      "Enter the marks 56\n"
     ]
    },
    {
     "name": "stdout",
     "output_type": "stream",
     "text": [
      "386\n",
      "77.2\n"
     ]
    }
   ],
   "source": [
    "total_marks =0\n",
    "for i in range(5):\n",
    "    subject_mark =int(input(\"Enter the marks\"))\n",
    "    total_marks =total_marks + subject_mark\n",
    "print(total_marks)\n",
    "\n",
    "## Calculate the percentage of student\n",
    "percentage = total_marks/5 \n",
    "print(percentage)"
   ]
  },
  {
   "cell_type": "code",
   "execution_count": 74,
   "id": "44be63e4-bec8-48d0-bf62-7d9ecd56116f",
   "metadata": {},
   "outputs": [
    {
     "name": "stdout",
     "output_type": "stream",
     "text": [
      "Student get B grade\n"
     ]
    }
   ],
   "source": [
    "if(percentage > 85):\n",
    "    print(\"Student get A grade\")\n",
    "elif(percentage < 85 and percentage >=75):\n",
    "    print(\"Student get B grade\")\n",
    "elif(percentage < 75 and percentage >=50):\n",
    "    print(\"Student get C grade\")\n",
    "elif(percentage > 30 and percentage <=50):\n",
    "    print(\"Student get D grade\")\n",
    "else:\n",
    "    print(\"student will be reappear the exam\")"
   ]
  },
  {
   "cell_type": "markdown",
   "id": "6f8d6077-193d-412b-8fbc-c6c69c500d9b",
   "metadata": {},
   "source": [
    "#### 1.13. Write a program for VIBGYOR Spectrum based on their Wavelength using.Wavelength Range:"
   ]
  },
  {
   "cell_type": "code",
   "execution_count": 1,
   "id": "1702adf0-a700-40b1-84fe-07727a146da9",
   "metadata": {},
   "outputs": [
    {
     "data": {
      "image/png": "[encoded data removed]",
      "text/plain": [
       "<Figure size 1000x200 with 1 Axes>"
      ]
     },
     "metadata": {},
     "output_type": "display_data"
    }
   ],
   "source": [
    "import matplotlib.pyplot as plt\n",
    "import numpy as np\n",
    "\n",
    "# Define the wavelengths for VIBGYOR colors in nanometers (approximate values)\n",
    "wavelengths = {\n",
    "    'Violet': 400,\n",
    "    'Indigo': 445,\n",
    "    'Blue': 475,\n",
    "    'Green': 510,\n",
    "    'Yellow': 570,\n",
    "    'Orange': 590,\n",
    "    'Red': 650\n",
    "}\n",
    "\n",
    "# Define the colors corresponding to the wavelengths\n",
    "colors = {\n",
    "    'Violet': '#8A2BE2',\n",
    "    'Indigo': '#4B0082',\n",
    "    'Blue': '#0000FF',\n",
    "    'Green': '#00FF00',\n",
    "    'Yellow': '#FFFF00',\n",
    "    'Orange': '#FFA500',\n",
    "    'Red': '#FF0000'\n",
    "}\n",
    "\n",
    "# Create a figure and axis\n",
    "fig, ax = plt.subplots(figsize=(10, 2))\n",
    "\n",
    "# Plot each color with its corresponding wavelength\n",
    "for color, wavelength in wavelengths.items():\n",
    "    ax.plot([wavelength, wavelength], [0, 1], color=colors[color], linewidth=10, label=f\"{color} ({wavelength} nm)\")\n",
    "\n",
    "# Customize the plot\n",
    "ax.set_xlim(380, 700)\n",
    "ax.set_ylim(0, 1)\n",
    "ax.set_xlabel('Wavelength (nm)')\n",
    "ax.set_yticks([])\n",
    "ax.legend(loc='upper right')\n",
    "ax.set_title('VIBGYOR Spectrum')\n",
    "\n",
    "# Show the plot\n",
    "plt.show()\n"
   ]
  },
  {
   "cell_type": "markdown",
   "id": "7b0fec97-6e7e-4471-b382-98b3848407ac",
   "metadata": {},
   "source": [
    "#### 1.14.Consider the gravitational interactions between the Earth, Moon, and Sun in our solar system.\n",
    "Given:\n",
    "\n",
    "mass_earth = 5.972624 # Mass of Earth in kilograms\n",
    "\n",
    "mass_moon = 7.34767309e22 # Mass of Moon in kilograms\n",
    "\n",
    "mass_sun = 1.989e30 # Mass of Sun in kilograms\n",
    "\n",
    "distance_earth_sun = 1.496ell # Average distance between Earth and Sun in meters\n",
    "distance_moon_earth = 3.844e8 # Average distance between Moon and Earth in meters\n",
    "\n",
    "Tasks:\n",
    "\n",
    "+ Calculate the gravitational force between the Earth and the Sun,\n",
    "\n",
    "+ Calculate the gravitational force between the Moon and the Earth.\n",
    "\n",
    "+ Compare the calculated forces to determine which gravitational force is stronger.\n",
    "\n",
    "+ Explain which celestial body (Earth or Moon) is more attracted to the other based on the comparison.\n",
    "\n"
   ]
  },
  {
   "cell_type": "code",
   "execution_count": 1,
   "id": "d9274cd8-0197-479c-934c-0ac7e276996a",
   "metadata": {},
   "outputs": [
    {
     "name": "stdout",
     "output_type": "stream",
     "text": [
      "Gravitational force between Earth and Sun: 3.54e+22 N\n",
      "Gravitational force between Moon and Earth: 1.98e+20 N\n",
      "The stronger gravitational force is: Earth-Sun\n",
      "The Earth is more strongly attracted to the Sun compared to the Moon.\n"
     ]
    }
   ],
   "source": [
    "# Constants\n",
    "G = 6.67430e-11  # Gravitational constant in m^3 kg^-1 s^-2\n",
    "\n",
    "# Given values\n",
    "mass_earth = 5.972624e24  # Mass of Earth in kilograms\n",
    "mass_moon = 7.34767309e22  # Mass of Moon in kilograms\n",
    "mass_sun = 1.989e30  # Mass of Sun in kilograms\n",
    "distance_earth_sun = 1.496e11  # Average distance between Earth and Sun in meters\n",
    "distance_moon_earth = 3.844e8  # Average distance between Moon and Earth in meters\n",
    "\n",
    "# Calculate gravitational force between Earth and Sun\n",
    "force_earth_sun = G * mass_earth * mass_sun / distance_earth_sun**2\n",
    "\n",
    "# Calculate gravitational force between Moon and Earth\n",
    "force_moon_earth = G * mass_moon * mass_earth / distance_moon_earth**2\n",
    "\n",
    "# Compare the forces\n",
    "stronger_force = \"Earth-Sun\" if force_earth_sun > force_moon_earth else \"Moon-Earth\"\n",
    "\n",
    "# Display results\n",
    "print(f\"Gravitational force between Earth and Sun: {force_earth_sun:.2e} N\")\n",
    "print(f\"Gravitational force between Moon and Earth: {force_moon_earth:.2e} N\")\n",
    "print(f\"The stronger gravitational force is: {stronger_force}\")\n",
    "\n",
    "# Explanation\n",
    "if force_earth_sun > force_moon_earth:\n",
    "    print(\"The Earth is more strongly attracted to the Sun compared to the Moon.\")\n",
    "else:\n",
    "    print(\"The Moon is more strongly attracted to the Earth compared to the Earth to the Sun.\")"
   ]
  },
  {
   "cell_type": "markdown",
   "id": "dfe13465-1e45-4322-b111-7a9d7eb9d7e4",
   "metadata": {},
   "source": [
    "#### 2. Design and implement a Python program for managing student information using object-oriented\n",
    "principles. Create a class called Student’ with encapsulated attributes for name, age, and roll number.\n",
    "Implement getter and setter methods for these attributes. Additionally, provide methods to display student\n",
    "information and update student details.\n",
    "\n",
    "Tasks:\n",
    "+ Define the “Student class with encapsulated attributes.\n",
    "\n",
    "+ Implement getter and setter methods for the attributes.\n",
    "+ Write methods to display student information and update details.\n",
    "+ Create instances of the “Student class and test the implemented functionality."
   ]
  },
  {
   "cell_type": "code",
   "execution_count": 10,
   "id": "b153b3ad-21ca-4dae-8b6f-ac8f879b7e40",
   "metadata": {},
   "outputs": [],
   "source": [
    "class Student :\n",
    "    \n",
    "    def __init__(self,name,age,roll_no):\n",
    "        self.__name =name\n",
    "        self.__age  =age\n",
    "        self.__roll_no =roll_no\n",
    "        \n",
    "    def Set_Name(self,name):\n",
    "        self.__name =name\n",
    "        \n",
    "    def Set_age(self,age):\n",
    "        self.__age =age\n",
    "\n",
    "    def Set_roll_no(self,roll_no):\n",
    "        self.__roll_no =roll_no\n",
    "        \n",
    "    def Get_Name(self):\n",
    "        return self.__name\n",
    "    \n",
    "    def Get_age(self):\n",
    "        return self.__age\n",
    "    \n",
    "    def Get_roll_no(self):\n",
    "        return self.__roll_no\n",
    "    \n",
    "    def display_student_info(self):\n",
    "        return self.__name ,self.__age,self.__roll_no"
   ]
  },
  {
   "cell_type": "code",
   "execution_count": 11,
   "id": "da1bd812-c748-4f37-ad95-595c1b4cdc6c",
   "metadata": {},
   "outputs": [],
   "source": [
    "students= Student(\"bhushan\",29,1)"
   ]
  },
  {
   "cell_type": "code",
   "execution_count": 12,
   "id": "03527bbd-94a9-43c9-991a-e44888ab6712",
   "metadata": {},
   "outputs": [
    {
     "data": {
      "text/plain": [
       "('bhushan', 29, 1)"
      ]
     },
     "execution_count": 12,
     "metadata": {},
     "output_type": "execute_result"
    }
   ],
   "source": [
    "students.display_student_info()"
   ]
  },
  {
   "cell_type": "markdown",
   "id": "7bae15bb-c953-4052-b606-9735c1915b4c",
   "metadata": {},
   "source": [
    "#### 3.Develop a Python program for managing library resources efficiently. Design a class named ‘LibraryBook™\n",
    "with attributes like book name, author, and availability status. Implement methods for borrowing and\n",
    "returning books while ensuring proper encapsulation of attributes.\n",
    "\n",
    "Tasks\n",
    "+ 1. Create the ‘LibraryBook’ class with encapsulated attributes.\n",
    "\n",
    "+ 2. Implement methods for borrowing and returning books.\n",
    "+ 3. Ensure proper encapsulation to protect book details.\n",
    "+ 4. Test the borrowing and returning functionality with sample data."
   ]
  },
  {
   "cell_type": "code",
   "execution_count": 20,
   "id": "b6b8ebc2-3aa9-4b1e-830a-69c85be60fac",
   "metadata": {},
   "outputs": [],
   "source": [
    "class LibraryBook :\n",
    "    \n",
    "    def __init__(self,book_name ,author,availability_Status):\n",
    "        self.__book_name =book_name\n",
    "        self.__author =author\n",
    "        self.__availability_Status =availability_Status\n",
    "        \n",
    "    def Borrow_book(self,bookName):\n",
    "        ## Check avilability of book\n",
    "        if(bookName == self.__book_name):\n",
    "            print(\"Book is avilable in library You can take it\")\n",
    "            \n",
    "        else:\n",
    "            print(\"book is not available in library\")\n",
    "            \n",
    "    def Return_book(self):\n",
    "        return self.__book_name"
   ]
  },
  {
   "cell_type": "code",
   "execution_count": 21,
   "id": "4f285890-ac3f-4202-9f41-7c0b70f0f72a",
   "metadata": {},
   "outputs": [],
   "source": [
    "library =LibraryBook(\"ML\",\"Murphy\",\"Yes\")"
   ]
  },
  {
   "cell_type": "code",
   "execution_count": 25,
   "id": "38aa8cbe-101a-4990-ae5f-014f10adb905",
   "metadata": {},
   "outputs": [
    {
     "name": "stdout",
     "output_type": "stream",
     "text": [
      "Book is avilable in library You can take it\n"
     ]
    }
   ],
   "source": [
    "library.Borrow_book(\"ML\")"
   ]
  },
  {
   "cell_type": "code",
   "execution_count": 23,
   "id": "ccba6277-c193-448c-b0e4-731fbad9b09a",
   "metadata": {},
   "outputs": [
    {
     "data": {
      "text/plain": [
       "'ML'"
      ]
     },
     "execution_count": 23,
     "metadata": {},
     "output_type": "execute_result"
    }
   ],
   "source": [
    "library.Return_book()"
   ]
  },
  {
   "cell_type": "markdown",
   "id": "2ae3b24e-f7aa-4196-bb9f-fc4a5935b9a2",
   "metadata": {},
   "source": [
    "#### 4.Create a simple banking system using object-oriented concepts in Python. Design classes representing\n",
    "different types of bank accounts such as savings and checking. Implement methods for deposit, withdraw,\n",
    "and balance inquiry. Utilize inheritance to manage different account types efficiently.\n",
    "\n",
    "Tasks:\n",
    "* 1. Define base class(es) for bank accounts with common attributes and methods.\n",
    "\n",
    "* 2.  Implement subclasses for specific account types (e.g. SavingsAccount, CheckingAccount).\n",
    "+ 3.  Provide methods for deposit, withdraw, and balance inquiry in each subclass.\n",
    "+ 4. Test the banking system by creating instances of different account types and performing transactions."
   ]
  },
  {
   "cell_type": "code",
   "execution_count": 80,
   "id": "c17be7f7-1555-4b6a-b74a-e8745a0eabb0",
   "metadata": {},
   "outputs": [],
   "source": [
    "class Saving_Account :\n",
    "    \n",
    "    def deposite(self,amount):\n",
    "        self.amount = amount\n",
    "        self.balance = 0\n",
    "        self.__balance =self.__balance + amount\n",
    "        \n",
    "    def withdraw(self,amount):\n",
    "        if(self.amount > amount):\n",
    "            print(\"you cant able withraw amount Insuffiecient funds !\")\n",
    "            \n",
    "        else:\n",
    "            print(\"you cant able withraw amount\")\n",
    "            \n",
    "            \n",
    "    def Balance_inquiry(self):\n",
    "        return \"total balance is\",self.__balance"
   ]
  },
  {
   "cell_type": "code",
   "execution_count": 81,
   "id": "7d3660a2-bb2d-44f2-9c93-377861974b1f",
   "metadata": {},
   "outputs": [],
   "source": [
    "class curent_account(Saving_Account) :\n",
    "    \n",
    "    def deposite(self,amount):\n",
    "        self.amount = amount\n",
    "        self.__balance = 0\n",
    "        self.__balance = self.__balance + amount\n",
    "        \n",
    "    def withdraw(self,amount):\n",
    "        if(self.amount > amount):\n",
    "            print(\"you can able withraw amount\")\n",
    "            \n",
    "        else:\n",
    "            print(\"you cant able withraw amount Insuffiecient funds !\")\n",
    "            \n",
    "            \n",
    "    def Balance_inquiry(self):\n",
    "        return \"total balance is\",self.__balance"
   ]
  },
  {
   "cell_type": "code",
   "execution_count": 82,
   "id": "767e680b-7f0a-47ae-a00a-f2956ef5cb50",
   "metadata": {},
   "outputs": [
    {
     "name": "stdout",
     "output_type": "stream",
     "text": [
      "you cant able withraw amount Insuffiecient funds !\n"
     ]
    }
   ],
   "source": [
    "cur =curent_account()\n",
    "cur.deposite(50000)\n",
    "cur.withdraw(100000)"
   ]
  },
  {
   "cell_type": "code",
   "execution_count": 83,
   "id": "e4e1b498-aaac-4cd6-a03c-26b0503dd980",
   "metadata": {},
   "outputs": [
    {
     "name": "stdout",
     "output_type": "stream",
     "text": [
      "you can able withraw amount\n"
     ]
    }
   ],
   "source": [
    "save =Saving_Account()\n",
    "cur.deposite(50000)\n",
    "cur.withdraw(10000)"
   ]
  },
  {
   "cell_type": "markdown",
   "id": "bda068f7-5a3f-4bbd-a762-8cc0f4d0f8bd",
   "metadata": {},
   "source": [
    "#### 5.Write a Python program that models different animals and their sounds. Design a base class called\n",
    "“Animal with a method “make_sound()”. Create subclasses like Dog and “Cat that override the\n",
    "“make_sound() method to produce appropriate sounds.\n",
    "\n",
    "Tasks:\n",
    "* 1. Define the “Animal class with a method “make_sound()”.\n",
    "\n",
    "+ 2. Create subclasses ‘Dog and “Cat that override the make_sound()° method.\n",
    "* 3. Implement the sound generation logic for each subclass.\n",
    "+ 4. Test the program by creating instances of (Dog and “Cat” and calling the ‘make_sound() method."
   ]
  },
  {
   "cell_type": "code",
   "execution_count": 88,
   "id": "3f36ad67-faf4-49df-969b-ac579433f01e",
   "metadata": {},
   "outputs": [
    {
     "name": "stdout",
     "output_type": "stream",
     "text": [
      "Animal Sounds\n",
      "Dog Sound\n",
      "Cat sound\n"
     ]
    }
   ],
   "source": [
    "class Animal :\n",
    "    \n",
    "    def make_sound(self):\n",
    "        print(\"Animal Sounds\")\n",
    "        \n",
    "class Dog :\n",
    "    \n",
    "    def make_sound(self):\n",
    "        print(\"Dog Sound\")\n",
    "        \n",
    "class cat :\n",
    "    \n",
    "    def make_sound(self):\n",
    "        print(\"Cat sound\")\n",
    "        \n",
    "        \n",
    "animal =Animal()\n",
    "animal.make_sound()\n",
    "\n",
    "\n",
    "dog =Dog()\n",
    "dog.make_sound()\n",
    "\n",
    "c =cat()\n",
    "c.make_sound()"
   ]
  },
  {
   "cell_type": "markdown",
   "id": "1d12ed8f-f921-4dc2-a53f-14701006c277",
   "metadata": {},
   "source": [
    "#### 6.Write a code for Restaurant Management System Using OOPS:\n",
    "+ Create a Menultem class that has attributes such as name, description, price, and category.\n",
    "\n",
    "+ Implement methods to add a new menu item, update menu item information, and remove a menu item\n",
    "from the menu.\n",
    "\n",
    "+ Use encapsulation to hide the menu item's unique identification number.\n",
    "\n",
    "+ Inherit from the Menultem class to create a Fooditem class and a Beverageltem class, each with their own\n",
    "specific attributes and methods."
   ]
  },
  {
   "cell_type": "code",
   "execution_count": 106,
   "id": "d6abcb48-d28d-4dac-9d4c-21ade33ae7c1",
   "metadata": {},
   "outputs": [
    {
     "name": "stdout",
     "output_type": "stream",
     "text": [
      "Pizza (Food): $9.99 - Delicious cheese pizza [Cuisine: Italian]\n",
      "Cola (Beverage): $1.99 - Refreshing soft drink [Size: Medium]\n",
      "\n",
      "Updated Menu:\n",
      "Pizza (Food): $10.99 - Delicious cheese pizza with extra cheese [Cuisine: Italian]\n",
      "Cola (Beverage): $1.99 - Refreshing soft drink [Size: Medium]\n",
      "\n",
      "Menu after removing an item:\n",
      "Pizza (Food): $10.99 - Delicious cheese pizza with extra cheese [Cuisine: Italian]\n"
     ]
    }
   ],
   "source": [
    "class MenuItem:\n",
    "    def __init__(self, name, description, price, category):\n",
    "        self.__id = id(self)  # Unique identification number (hidden)\n",
    "        self.name = name\n",
    "        self.description = description\n",
    "        self.price = price\n",
    "        self.category = category\n",
    "    \n",
    "    def get_id(self):\n",
    "        return self.__id\n",
    "    \n",
    "    def update_info(self, name=None, description=None, price=None, category=None):\n",
    "        if name is not None:\n",
    "            self.name = name\n",
    "        if description is not None:\n",
    "            self.description = description\n",
    "        if price is not None:\n",
    "            self.price = price\n",
    "        if category is not None:\n",
    "            self.category = category\n",
    "\n",
    "    def __str__(self):\n",
    "        return f\"{self.name} ({self.category}): ${self.price} - {self.description}\"\n",
    "\n",
    "\n",
    "class FoodItem(MenuItem):\n",
    "    def __init__(self, name, description, price, category, cuisine_type):\n",
    "        super().__init__(name, description, price, category)\n",
    "        self.cuisine_type = cuisine_type\n",
    "    \n",
    "    def __str__(self):\n",
    "        return super().__str__() + f\" [Cuisine: {self.cuisine_type}]\"\n",
    "\n",
    "\n",
    "class BeverageItem(MenuItem):\n",
    "    def __init__(self, name, description, price, category, size):\n",
    "        super().__init__(name, description, price, category)\n",
    "        self.size = size\n",
    "    \n",
    "    def __str__(self):\n",
    "        return super().__str__() + f\" [Size: {self.size}]\"\n",
    "\n",
    "\n",
    "class Menu:\n",
    "    def __init__(self):\n",
    "        self.menu_items = {}\n",
    "\n",
    "    def add_item(self, item):\n",
    "        self.menu_items[item.get_id()] = item\n",
    "\n",
    "    def update_item(self, item_id, **kwargs):\n",
    "        if item_id in self.menu_items:\n",
    "            self.menu_items[item_id].update_info(**kwargs)\n",
    "        else:\n",
    "            print(\"Item not found.\")\n",
    "\n",
    "    def remove_item(self, item_id):\n",
    "        if item_id in self.menu_items:\n",
    "            del self.menu_items[item_id]\n",
    "        else:\n",
    "            print(\"Item not found.\")\n",
    "\n",
    "    def display_menu(self):\n",
    "        for item in self.menu_items.values():\n",
    "            print(item)\n",
    "\n",
    "\n",
    "# Example usage:\n",
    "menu = Menu()\n",
    "\n",
    "# Adding items to the menu\n",
    "pizza = FoodItem(name=\"Pizza\", description=\"Delicious cheese pizza\", price=9.99, category=\"Food\", cuisine_type=\"Italian\")\n",
    "cola = BeverageItem(name=\"Cola\", description=\"Refreshing soft drink\", price=1.99, category=\"Beverage\", size=\"Medium\")\n",
    "\n",
    "menu.add_item(pizza)\n",
    "menu.add_item(cola)\n",
    "\n",
    "# Display the menu\n",
    "menu.display_menu()\n",
    "\n",
    "# Update an item in the menu\n",
    "menu.update_item(pizza.get_id(), price=10.99, description=\"Delicious cheese pizza with extra cheese\")\n",
    "\n",
    "# Display the updated menu\n",
    "print(\"\\nUpdated Menu:\")\n",
    "menu.display_menu()\n",
    "\n",
    "# Remove an item from the menu\n",
    "menu.remove_item(cola.get_id())\n",
    "\n",
    "# Display the menu after removal\n",
    "print(\"\\nMenu after removing an item:\")\n",
    "menu.display_menu()\n"
   ]
  },
  {
   "cell_type": "markdown",
   "id": "502cc922-53f6-4d1c-bde2-d8e1a2e82243",
   "metadata": {},
   "source": [
    "#### 7.Write a code for Hotel Management System using OOPS:\n",
    "* Create a Room class that has attributes such as room number, room type, rate, and availability (private).\n",
    "\n",
    "+ Implement methods to book a room, check in a quest, and check out a quest.\n",
    "+ Use encapsulation to hide the room's unique identification number.\n",
    "\n",
    "+ Inherit from the Room class to create a SuiteRoom class and a StandardRoom class, each with their own\n",
    "specific attributes and methods."
   ]
  },
  {
   "cell_type": "code",
   "execution_count": 1,
   "id": "2f179f4a-415a-4a6d-a8f4-86d335d2c5da",
   "metadata": {},
   "outputs": [
    {
     "name": "stdout",
     "output_type": "stream",
     "text": [
      "Room 101 (Suite): $250/night - Available [Suite with Jacuzzi]\n",
      "Room 102 (Standard): $100/night - Available [Standard with view]\n",
      "Room 101 is now booked.\n",
      "Guest checked into room 101.\n",
      "\n",
      "After booking and check-in:\n",
      "Room 101 (Suite): $250/night - Not Available [Suite with Jacuzzi]\n",
      "Room 102 (Standard): $100/night - Available [Standard with view]\n",
      "Guest checked out from room 101. Room is now available.\n",
      "\n",
      "After check-out:\n",
      "Room 101 (Suite): $250/night - Available [Suite with Jacuzzi]\n",
      "Room 102 (Standard): $100/night - Available [Standard with view]\n"
     ]
    }
   ],
   "source": [
    "class Room:\n",
    "    def __init__(self, room_number, room_type, rate, availability=True):\n",
    "        self.__id = id(self)  # Unique identification number (hidden)\n",
    "        self.room_number = room_number\n",
    "        self.room_type = room_type\n",
    "        self.rate = rate\n",
    "        self.__availability = availability\n",
    "\n",
    "    def get_id(self):\n",
    "        return self.__id\n",
    "\n",
    "    def book_room(self):\n",
    "        if self.__availability:\n",
    "            self.__availability = False\n",
    "            print(f\"Room {self.room_number} is now booked.\")\n",
    "        else:\n",
    "            print(f\"Room {self.room_number} is already booked.\")\n",
    "\n",
    "    def check_in(self):\n",
    "        if not self.__availability:\n",
    "            print(f\"Guest checked into room {self.room_number}.\")\n",
    "        else:\n",
    "            print(f\"Room {self.room_number} is not booked yet.\")\n",
    "\n",
    "    def check_out(self):\n",
    "        if not self.__availability:\n",
    "            self.__availability = True\n",
    "            print(f\"Guest checked out from room {self.room_number}. Room is now available.\")\n",
    "        else:\n",
    "            print(f\"Room {self.room_number} is already available.\")\n",
    "\n",
    "    def is_available(self):\n",
    "        return self.__availability\n",
    "\n",
    "    def __str__(self):\n",
    "        availability_status = \"Available\" if self.__availability else \"Not Available\"\n",
    "        return f\"Room {self.room_number} ({self.room_type}): ${self.rate}/night - {availability_status}\"\n",
    "\n",
    "\n",
    "class SuiteRoom(Room):\n",
    "    def __init__(self, room_number, rate, has_jacuzzi):\n",
    "        super().__init__(room_number, \"Suite\", rate)\n",
    "        self.has_jacuzzi = has_jacuzzi\n",
    "\n",
    "    def __str__(self):\n",
    "        jacuzzi_info = \"with Jacuzzi\" if self.has_jacuzzi else \"without Jacuzzi\"\n",
    "        return super().__str__() + f\" [Suite {jacuzzi_info}]\"\n",
    "\n",
    "\n",
    "class StandardRoom(Room):\n",
    "    def __init__(self, room_number, rate, has_view):\n",
    "        super().__init__(room_number, \"Standard\", rate)\n",
    "        self.has_view = has_view\n",
    "\n",
    "    def __str__(self):\n",
    "        view_info = \"with view\" if self.has_view else \"without view\"\n",
    "        return super().__str__() + f\" [Standard {view_info}]\"\n",
    "\n",
    "\n",
    "class Hotel:\n",
    "    def __init__(self):\n",
    "        self.rooms = {}\n",
    "\n",
    "    def add_room(self, room):\n",
    "        self.rooms[room.get_id()] = room\n",
    "\n",
    "    def book_room(self, room_id):\n",
    "        if room_id in self.rooms:\n",
    "            self.rooms[room_id].book_room()\n",
    "        else:\n",
    "            print(\"Room not found.\")\n",
    "\n",
    "    def check_in(self, room_id):\n",
    "        if room_id in self.rooms:\n",
    "            self.rooms[room_id].check_in()\n",
    "        else:\n",
    "            print(\"Room not found.\")\n",
    "\n",
    "    def check_out(self, room_id):\n",
    "        if room_id in self.rooms:\n",
    "            self.rooms[room_id].check_out()\n",
    "        else:\n",
    "            print(\"Room not found.\")\n",
    "\n",
    "    def display_rooms(self):\n",
    "        for room in self.rooms.values():\n",
    "            print(room)\n",
    "\n",
    "\n",
    "# Example usage:\n",
    "hotel = Hotel()\n",
    "\n",
    "# Adding rooms to the hotel\n",
    "suite = SuiteRoom(room_number=101, rate=250, has_jacuzzi=True)\n",
    "standard = StandardRoom(room_number=102, rate=100, has_view=True)\n",
    "\n",
    "hotel.add_room(suite)\n",
    "hotel.add_room(standard)\n",
    "\n",
    "# Display the rooms\n",
    "hotel.display_rooms()\n",
    "\n",
    "# Book a room\n",
    "hotel.book_room(suite.get_id())\n",
    "\n",
    "# Check-in to a room\n",
    "hotel.check_in(suite.get_id())\n",
    "\n",
    "# Display the rooms after booking and check-in\n",
    "print(\"\\nAfter booking and check-in:\")\n",
    "hotel.display_rooms()\n",
    "\n",
    "# Check-out from a room\n",
    "hotel.check_out(suite.get_id())\n",
    "\n",
    "# Display the rooms after check-out\n",
    "print(\"\\nAfter check-out:\")\n",
    "hotel.display_rooms()"
   ]
  },
  {
   "cell_type": "markdown",
   "id": "40283cea-7b17-4e70-86bb-960740712bd1",
   "metadata": {},
   "source": [
    "#### 8.Write a code for Fitness Club Management System using OOPS:\n",
    "+ Create a Member class that has attributes such as name, age, membership type, and membership status\n",
    "(private).\n",
    "\n",
    "+ Implement methods to register a new member, renew a membership, and cancel a membership.\n",
    "+ Use encapsulation to hide the member's unique identification number.\n",
    "\n",
    "+ Inherit from the Member class to create a FamilyMember class and an IndividualMember class, each with\n",
    "their own specific attributes and methods.\n"
   ]
  },
  {
   "cell_type": "code",
   "execution_count": 2,
   "id": "c3d4a32e-843c-4db6-aa34-fb73e9b67149",
   "metadata": {},
   "outputs": [
    {
     "name": "stdout",
     "output_type": "stream",
     "text": [
      "Member John Doe has been registered.\n",
      "Member Jane Smith has been registered.\n",
      "John Doe, Age: 35, Membership: Family, Status: Active, Family Members Count: 4\n",
      "Jane Smith, Age: 28, Membership: Individual, Status: Active, with Personal Trainer\n",
      "Membership for John Doe is already active.\n",
      "Membership for Jane Smith has been cancelled.\n",
      "\n",
      "After renew and cancel:\n",
      "John Doe, Age: 35, Membership: Family, Status: Active, Family Members Count: 4\n",
      "Jane Smith, Age: 28, Membership: Individual, Status: Cancelled, with Personal Trainer\n"
     ]
    }
   ],
   "source": [
    "class Member:\n",
    "    def __init__(self, name, age, membership_type, status=\"Active\"):\n",
    "        self.__id = id(self)  # Unique identification number (hidden)\n",
    "        self.name = name\n",
    "        self.age = age\n",
    "        self.membership_type = membership_type\n",
    "        self.__status = status\n",
    "\n",
    "    def get_id(self):\n",
    "        return self.__id\n",
    "\n",
    "    def renew_membership(self):\n",
    "        if self.__status != \"Active\":\n",
    "            self.__status = \"Active\"\n",
    "            print(f\"Membership for {self.name} has been renewed.\")\n",
    "        else:\n",
    "            print(f\"Membership for {self.name} is already active.\")\n",
    "\n",
    "    def cancel_membership(self):\n",
    "        if self.__status != \"Cancelled\":\n",
    "            self.__status = \"Cancelled\"\n",
    "            print(f\"Membership for {self.name} has been cancelled.\")\n",
    "        else:\n",
    "            print(f\"Membership for {self.name} is already cancelled.\")\n",
    "\n",
    "    def is_active(self):\n",
    "        return self.__status == \"Active\"\n",
    "\n",
    "    def __str__(self):\n",
    "        return f\"{self.name}, Age: {self.age}, Membership: {self.membership_type}, Status: {self.__status}\"\n",
    "\n",
    "\n",
    "class FamilyMember(Member):\n",
    "    def __init__(self, name, age, membership_type, family_members_count):\n",
    "        super().__init__(name, age, membership_type)\n",
    "        self.family_members_count = family_members_count\n",
    "\n",
    "    def __str__(self):\n",
    "        return super().__str__() + f\", Family Members Count: {self.family_members_count}\"\n",
    "\n",
    "\n",
    "class IndividualMember(Member):\n",
    "    def __init__(self, name, age, membership_type, personal_trainer=False):\n",
    "        super().__init__(name, age, membership_type)\n",
    "        self.personal_trainer = personal_trainer\n",
    "\n",
    "    def __str__(self):\n",
    "        trainer_info = \"with Personal Trainer\" if self.personal_trainer else \"without Personal Trainer\"\n",
    "        return super().__str__() + f\", {trainer_info}\"\n",
    "\n",
    "\n",
    "class FitnessClub:\n",
    "    def __init__(self):\n",
    "        self.members = {}\n",
    "\n",
    "    def register_member(self, member):\n",
    "        self.members[member.get_id()] = member\n",
    "        print(f\"Member {member.name} has been registered.\")\n",
    "\n",
    "    def renew_membership(self, member_id):\n",
    "        if member_id in self.members:\n",
    "            self.members[member_id].renew_membership()\n",
    "        else:\n",
    "            print(\"Member not found.\")\n",
    "\n",
    "    def cancel_membership(self, member_id):\n",
    "        if member_id in self.members:\n",
    "            self.members[member_id].cancel_membership()\n",
    "        else:\n",
    "            print(\"Member not found.\")\n",
    "\n",
    "    def display_members(self):\n",
    "        for member in self.members.values():\n",
    "            print(member)\n",
    "\n",
    "\n",
    "# Example usage:\n",
    "fitness_club = FitnessClub()\n",
    "\n",
    "# Registering members\n",
    "family_member = FamilyMember(name=\"John Doe\", age=35, membership_type=\"Family\", family_members_count=4)\n",
    "individual_member = IndividualMember(name=\"Jane Smith\", age=28, membership_type=\"Individual\", personal_trainer=True)\n",
    "\n",
    "fitness_club.register_member(family_member)\n",
    "fitness_club.register_member(individual_member)\n",
    "\n",
    "# Display members\n",
    "fitness_club.display_members()\n",
    "\n",
    "# Renew a membership\n",
    "fitness_club.renew_membership(family_member.get_id())\n",
    "\n",
    "# Cancel a membership\n",
    "fitness_club.cancel_membership(individual_member.get_id())\n",
    "\n",
    "# Display members after renew and cancel\n",
    "print(\"\\nAfter renew and cancel:\")\n",
    "fitness_club.display_members()\n"
   ]
  },
  {
   "cell_type": "markdown",
   "id": "f4395ad6-44b3-4320-9582-466f8d7ff265",
   "metadata": {},
   "source": [
    "#### 9.Write a code for Event Management System using OOPS:\n",
    "+ Create an Event class that has attributes such as name, date, time, location, and list of attendees (private).\n",
    "\n",
    "* Implement methods to create a new event, add or remove attendees, and get the total number of\n",
    "attendees.\n",
    "\n",
    "+ Use encapsulation to hide the event's unique identification number.\n",
    "\n",
    "+ Inherit from the Event class to create a PrivateEvent class and a PublicEvent class, each with their own\n",
    "specific attributes and methods."
   ]
  },
  {
   "cell_type": "code",
   "execution_count": 3,
   "id": "985d608e-8714-4ccc-a1c3-5ab599fcfeaf",
   "metadata": {},
   "outputs": [
    {
     "name": "stdout",
     "output_type": "stream",
     "text": [
      "Member John Doe has been registered.\n",
      "Member Jane Smith has been registered.\n",
      "John Doe, Age: 35, Membership: Family, Status: Active, Family Members Count: 4\n",
      "Jane Smith, Age: 28, Membership: Individual, Status: Active, with Personal Trainer\n",
      "Membership for John Doe is already active.\n",
      "Membership for Jane Smith has been cancelled.\n",
      "\n",
      "After renew and cancel:\n",
      "John Doe, Age: 35, Membership: Family, Status: Active, Family Members Count: 4\n",
      "Jane Smith, Age: 28, Membership: Individual, Status: Cancelled, with Personal Trainer\n"
     ]
    }
   ],
   "source": [
    "class Member:\n",
    "    def __init__(self, name, age, membership_type, status=\"Active\"):\n",
    "        self.__id = id(self)  # Unique identification number (hidden)\n",
    "        self.name = name\n",
    "        self.age = age\n",
    "        self.membership_type = membership_type\n",
    "        self.__status = status\n",
    "\n",
    "    def get_id(self):\n",
    "        return self.__id\n",
    "\n",
    "    def renew_membership(self):\n",
    "        if self.__status != \"Active\":\n",
    "            self.__status = \"Active\"\n",
    "            print(f\"Membership for {self.name} has been renewed.\")\n",
    "        else:\n",
    "            print(f\"Membership for {self.name} is already active.\")\n",
    "\n",
    "    def cancel_membership(self):\n",
    "        if self.__status != \"Cancelled\":\n",
    "            self.__status = \"Cancelled\"\n",
    "            print(f\"Membership for {self.name} has been cancelled.\")\n",
    "        else:\n",
    "            print(f\"Membership for {self.name} is already cancelled.\")\n",
    "\n",
    "    def is_active(self):\n",
    "        return self.__status == \"Active\"\n",
    "\n",
    "    def __str__(self):\n",
    "        return f\"{self.name}, Age: {self.age}, Membership: {self.membership_type}, Status: {self.__status}\"\n",
    "\n",
    "\n",
    "class FamilyMember(Member):\n",
    "    def __init__(self, name, age, membership_type, family_members_count):\n",
    "        super().__init__(name, age, membership_type)\n",
    "        self.family_members_count = family_members_count\n",
    "\n",
    "    def __str__(self):\n",
    "        return super().__str__() + f\", Family Members Count: {self.family_members_count}\"\n",
    "\n",
    "\n",
    "class IndividualMember(Member):\n",
    "    def __init__(self, name, age, membership_type, personal_trainer=False):\n",
    "        super().__init__(name, age, membership_type)\n",
    "        self.personal_trainer = personal_trainer\n",
    "\n",
    "    def __str__(self):\n",
    "        trainer_info = \"with Personal Trainer\" if self.personal_trainer else \"without Personal Trainer\"\n",
    "        return super().__str__() + f\", {trainer_info}\"\n",
    "\n",
    "\n",
    "class FitnessClub:\n",
    "    def __init__(self):\n",
    "        self.members = {}\n",
    "\n",
    "    def register_member(self, member):\n",
    "        self.members[member.get_id()] = member\n",
    "        print(f\"Member {member.name} has been registered.\")\n",
    "\n",
    "    def renew_membership(self, member_id):\n",
    "        if member_id in self.members:\n",
    "            self.members[member_id].renew_membership()\n",
    "        else:\n",
    "            print(\"Member not found.\")\n",
    "\n",
    "    def cancel_membership(self, member_id):\n",
    "        if member_id in self.members:\n",
    "            self.members[member_id].cancel_membership()\n",
    "        else:\n",
    "            print(\"Member not found.\")\n",
    "\n",
    "    def display_members(self):\n",
    "        for member in self.members.values():\n",
    "            print(member)\n",
    "\n",
    "\n",
    "# Example usage:\n",
    "fitness_club = FitnessClub()\n",
    "\n",
    "# Registering members\n",
    "family_member = FamilyMember(name=\"John Doe\", age=35, membership_type=\"Family\", family_members_count=4)\n",
    "individual_member = IndividualMember(name=\"Jane Smith\", age=28, membership_type=\"Individual\", personal_trainer=True)\n",
    "\n",
    "fitness_club.register_member(family_member)\n",
    "fitness_club.register_member(individual_member)\n",
    "\n",
    "# Display members\n",
    "fitness_club.display_members()\n",
    "\n",
    "# Renew a membership\n",
    "fitness_club.renew_membership(family_member.get_id())\n",
    "\n",
    "# Cancel a membership\n",
    "fitness_club.cancel_membership(individual_member.get_id())\n",
    "\n",
    "# Display members after renew and cancel\n",
    "print(\"\\nAfter renew and cancel:\")\n",
    "fitness_club.display_members()\n"
   ]
  },
  {
   "cell_type": "markdown",
   "id": "2def32e3-a334-475e-ad6f-6ded00a4354a",
   "metadata": {},
   "source": [
    "#### 10.Write a code for Airline Reservation System using OOPS:\n",
    "+ Create a Flight class that has attributes such as flight number, departure and arrival airports, departure and\n",
    "arrival times, and available seats (private),\n",
    "\n",
    "+ Implement methods to book a seat, cancel a reservation, and get the remaining available seats.\n",
    "+ Use encapsulation to hide the flight's unique identification number.\n",
    "\n",
    "+ Inherit from the Flight class to create a DomesticFlight class and an InternationalFlight class, each with their\n",
    "own specific attributes and methods."
   ]
  },
  {
   "cell_type": "code",
   "execution_count": 4,
   "id": "e4b0e7a0-5061-4058-a81a-43c686f7277e",
   "metadata": {},
   "outputs": [
    {
     "name": "stdout",
     "output_type": "stream",
     "text": [
      "Flight AA123 has been added.\n",
      "Flight BA456 has been added.\n",
      "Flight: AA123, From: LAX To: SFO, Departure: 10:00 AM, Arrival: 11:30 AM, Available Seats: 150 [Domestic Flight: with In-Flight Meal]\n",
      "Flight: BA456, From: LHR To: JFK, Departure: 02:00 PM, Arrival: 05:00 PM, Available Seats: 200 [International Flight: Passport Required]\n",
      "Seat booked on flight AA123. Remaining seats: 149\n",
      "Reservation canceled on flight BA456. Available seats: 201\n",
      "\n",
      "After booking and cancellation:\n",
      "Flight: AA123, From: LAX To: SFO, Departure: 10:00 AM, Arrival: 11:30 AM, Available Seats: 149 [Domestic Flight: with In-Flight Meal]\n",
      "Flight: BA456, From: LHR To: JFK, Departure: 02:00 PM, Arrival: 05:00 PM, Available Seats: 201 [International Flight: Passport Required]\n"
     ]
    }
   ],
   "source": [
    "class Flight:\n",
    "    def __init__(self, flight_number, departure_airport, arrival_airport, departure_time, arrival_time, available_seats):\n",
    "        self.__id = id(self)  # Unique identification number (hidden)\n",
    "        self.flight_number = flight_number\n",
    "        self.departure_airport = departure_airport\n",
    "        self.arrival_airport = arrival_airport\n",
    "        self.departure_time = departure_time\n",
    "        self.arrival_time = arrival_time\n",
    "        self.__available_seats = available_seats\n",
    "\n",
    "    def get_id(self):\n",
    "        return self.__id\n",
    "\n",
    "    def book_seat(self):\n",
    "        if self.__available_seats > 0:\n",
    "            self.__available_seats -= 1\n",
    "            print(f\"Seat booked on flight {self.flight_number}. Remaining seats: {self.__available_seats}\")\n",
    "        else:\n",
    "            print(f\"No available seats on flight {self.flight_number}.\")\n",
    "\n",
    "    def cancel_reservation(self):\n",
    "        self.__available_seats += 1\n",
    "        print(f\"Reservation canceled on flight {self.flight_number}. Available seats: {self.__available_seats}\")\n",
    "\n",
    "    def get_remaining_seats(self):\n",
    "        return self.__available_seats\n",
    "\n",
    "    def __str__(self):\n",
    "        return (f\"Flight: {self.flight_number}, From: {self.departure_airport} To: {self.arrival_airport}, \"\n",
    "                f\"Departure: {self.departure_time}, Arrival: {self.arrival_time}, Available Seats: {self.get_remaining_seats()}\")\n",
    "\n",
    "\n",
    "class DomesticFlight(Flight):\n",
    "    def __init__(self, flight_number, departure_airport, arrival_airport, departure_time, arrival_time, available_seats, in_flight_meal=False):\n",
    "        super().__init__(flight_number, departure_airport, arrival_airport, departure_time, arrival_time, available_seats)\n",
    "        self.in_flight_meal = in_flight_meal\n",
    "\n",
    "    def __str__(self):\n",
    "        meal_info = \"with In-Flight Meal\" if self.in_flight_meal else \"without In-Flight Meal\"\n",
    "        return super().__str__() + f\" [Domestic Flight: {meal_info}]\"\n",
    "\n",
    "\n",
    "class InternationalFlight(Flight):\n",
    "    def __init__(self, flight_number, departure_airport, arrival_airport, departure_time, arrival_time, available_seats, passport_required=True):\n",
    "        super().__init__(flight_number, departure_airport, arrival_airport, departure_time, arrival_time, available_seats)\n",
    "        self.passport_required = passport_required\n",
    "\n",
    "    def __str__(self):\n",
    "        passport_info = \"Passport Required\" if self.passport_required else \"No Passport Required\"\n",
    "        return super().__str__() + f\" [International Flight: {passport_info}]\"\n",
    "\n",
    "\n",
    "class AirlineReservationSystem:\n",
    "    def __init__(self):\n",
    "        self.flights = {}\n",
    "\n",
    "    def add_flight(self, flight):\n",
    "        self.flights[flight.get_id()] = flight\n",
    "        print(f\"Flight {flight.flight_number} has been added.\")\n",
    "\n",
    "    def book_seat(self, flight_id):\n",
    "        if flight_id in self.flights:\n",
    "            self.flights[flight_id].book_seat()\n",
    "        else:\n",
    "            print(\"Flight not found.\")\n",
    "\n",
    "    def cancel_reservation(self, flight_id):\n",
    "        if flight_id in self.flights:\n",
    "            self.flights[flight_id].cancel_reservation()\n",
    "        else:\n",
    "            print(\"Flight not found.\")\n",
    "\n",
    "    def display_flights(self):\n",
    "        for flight in self.flights.values():\n",
    "            print(flight)\n",
    "\n",
    "\n",
    "# Example usage:\n",
    "ars = AirlineReservationSystem()\n",
    "\n",
    "# Creating flights\n",
    "domestic_flight = DomesticFlight(flight_number=\"AA123\", departure_airport=\"LAX\", arrival_airport=\"SFO\", departure_time=\"10:00 AM\", arrival_time=\"11:30 AM\", available_seats=150, in_flight_meal=True)\n",
    "international_flight = InternationalFlight(flight_number=\"BA456\", departure_airport=\"LHR\", arrival_airport=\"JFK\", departure_time=\"02:00 PM\", arrival_time=\"05:00 PM\", available_seats=200, passport_required=True)\n",
    "\n",
    "ars.add_flight(domestic_flight)\n",
    "ars.add_flight(international_flight)\n",
    "\n",
    "# Display flights\n",
    "ars.display_flights()\n",
    "\n",
    "# Book a seat\n",
    "ars.book_seat(domestic_flight.get_id())\n",
    "\n",
    "# Cancel a reservation\n",
    "ars.cancel_reservation(international_flight.get_id())\n",
    "\n",
    "# Display flights after booking and cancellation\n",
    "print(\"\\nAfter booking and cancellation:\")\n",
    "ars.display_flights()"
   ]
  },
  {
   "cell_type": "markdown",
   "id": "516e5ebd-4e80-4afc-9f79-f83437da221a",
   "metadata": {},
   "source": [
    "#### 11. Define a Python module named constants.py containing constants like pi and the speed of light."
   ]
  },
  {
   "cell_type": "code",
   "execution_count": 5,
   "id": "7221d690-f195-4c90-87ea-09e088e5035f",
   "metadata": {},
   "outputs": [
    {
     "name": "stdout",
     "output_type": "stream",
     "text": [
      "PI values is ==> 3.141592653589793\n",
      "Speed of light is ==> 299792458\n"
     ]
    }
   ],
   "source": [
    "### Constant.py\n",
    "from constant import PI ,SPEED_OF_LIGHT\n",
    "print(\"PI values is ==>\",PI)\n",
    "print(\"Speed of light is ==>\",SPEED_OF_LIGHT)"
   ]
  },
  {
   "cell_type": "markdown",
   "id": "bfc8c67a-3a72-441f-8ae8-8e2f114b5023",
   "metadata": {},
   "source": [
    "#### 12. Write a Python module named calculator.py containing functions for addition, subtraction, multiplication, and division."
   ]
  },
  {
   "cell_type": "code",
   "execution_count": 8,
   "id": "fd62f602-e7f7-422f-ae02-012082e0dccd",
   "metadata": {},
   "outputs": [
    {
     "name": "stdin",
     "output_type": "stream",
     "text": [
      "Enter input from user 10\n",
      "Enter input from user 10\n",
      "Enter the operation multiplication\n"
     ]
    },
    {
     "name": "stdout",
     "output_type": "stream",
     "text": [
      "100\n"
     ]
    }
   ],
   "source": [
    "from calculator import calculators\n",
    "a = int(input(\"Enter input from user\"))\n",
    "b = int(input(\"Enter input from user\"))\n",
    "oper =input(\"Enter the operation\")\n",
    "calc =calculators(a,b,oper.lower())\n",
    "print(calc)"
   ]
  },
  {
   "cell_type": "markdown",
   "id": "056b15a7-49f4-4ae6-a883-edb56bf3d372",
   "metadata": {},
   "source": [
    "#### 13. Implement a Python package structure for a project named ecommerce, containing modules for product management and order processing."
   ]
  },
  {
   "cell_type": "markdown",
   "id": "fd66e254-ceea-4b1a-802d-328a41743d90",
   "metadata": {},
   "source": [
    "Ans : created python package structure like Ecommerce project please find\n",
    "it in ecommerce directory."
   ]
  },
  {
   "cell_type": "markdown",
   "id": "a16ecf01-ea22-4508-aa09-ab23ac1e346b",
   "metadata": {},
   "source": [
    "#### 14. Implement a Python module named string_utils.py containing functions for string manipulation, such as reversing and capitalizing strings.\n"
   ]
  },
  {
   "cell_type": "code",
   "execution_count": 10,
   "id": "e7fdc5fa-c505-4644-9e2b-56ea61967ce4",
   "metadata": {},
   "outputs": [
    {
     "name": "stdin",
     "output_type": "stream",
     "text": [
      "Enter the string input bhushan\n",
      "{Reverse & capitilize} Enter from user capitalize\n"
     ]
    },
    {
     "name": "stdout",
     "output_type": "stream",
     "text": [
      "Bhushan\n"
     ]
    }
   ],
   "source": [
    "from string_utils import String_Manipulations\n",
    "strings =input(\"Enter the string input\")\n",
    "operation =input(\"{Reverse & capitilize} Enter from user\")\n",
    "op =String_Manipulations(strings ,operation.lower())\n",
    "print(op)"
   ]
  },
  {
   "cell_type": "markdown",
   "id": "ccb4a6f3-2203-4e28-97d3-8e4916485eec",
   "metadata": {},
   "source": [
    "#### 15. Write a Python module named file_operations.py with functions for reading, writing, and appending data to a file"
   ]
  },
  {
   "cell_type": "code",
   "execution_count": 30,
   "id": "1c400178-d499-4836-863d-0c6767fd72fd",
   "metadata": {
    "scrolled": true
   },
   "outputs": [
    {
     "data": {
      "text/plain": [
       "'file_created'"
      ]
     },
     "execution_count": 30,
     "metadata": {},
     "output_type": "execute_result"
    }
   ],
   "source": [
    "from file_operation import create_file,read_file,write_file,appeand_file\n",
    "## Create file \n",
    "create_file(\"my_files.txt\")"
   ]
  },
  {
   "cell_type": "markdown",
   "id": "9db64dab-6330-4b32-9f9a-72346211950d",
   "metadata": {},
   "source": [
    "##### Write file"
   ]
  },
  {
   "cell_type": "code",
   "execution_count": 31,
   "id": "2eaf5c01-7c5e-4e82-a518-795b8089eae6",
   "metadata": {},
   "outputs": [],
   "source": [
    "write_file(\"my_files.txt\",\"Write a Python module named file_operations.py with functions for reading, writing, and appending data to a file\")"
   ]
  },
  {
   "cell_type": "markdown",
   "id": "68643451-7e0d-4a85-b2d4-056f1bce7bb0",
   "metadata": {},
   "source": [
    "##### Read file"
   ]
  },
  {
   "cell_type": "code",
   "execution_count": 33,
   "id": "172f7102-bab7-4d3e-ac4b-5875d2647d20",
   "metadata": {
    "scrolled": true
   },
   "outputs": [
    {
     "name": "stdout",
     "output_type": "stream",
     "text": [
      "Write a Python module named file_operations.py with functions for reading, writing, and appending data to a file\n"
     ]
    }
   ],
   "source": [
    "read_file(\"my_files.txt\")"
   ]
  },
  {
   "cell_type": "markdown",
   "id": "c6211fff-d15a-4004-ac38-e2ce407a3730",
   "metadata": {},
   "source": [
    "##### Appeand file"
   ]
  },
  {
   "cell_type": "code",
   "execution_count": 34,
   "id": "8869032d-9704-4e94-ba44-81b4273dae75",
   "metadata": {},
   "outputs": [],
   "source": [
    "appeand_file(\"my_files.txt\",\"\\nWhen the file is opened in append mode in Python, the handle is positioned at the end of the file. The data being written will be inserted at the end, after the existing data.\")"
   ]
  },
  {
   "cell_type": "code",
   "execution_count": 35,
   "id": "cca028b1-5605-4724-8fc1-5db68bb3b423",
   "metadata": {},
   "outputs": [
    {
     "name": "stdout",
     "output_type": "stream",
     "text": [
      "Write a Python module named file_operations.py with functions for reading, writing, and appending data to a file\n",
      "When the file is opened in append mode in Python, the handle is positioned at the end of the file. The data being written will be inserted at the end, after the existing data.\n"
     ]
    }
   ],
   "source": [
    "read_file(\"my_files.txt\")"
   ]
  },
  {
   "cell_type": "markdown",
   "id": "8fa38baa-df4f-47e4-a898-0dc685b16c17",
   "metadata": {},
   "source": [
    "#### 16. Write a Python program to create a text file named \"employees.txt\" and write the details of employees,including their name, age, and salary, into the file.\n"
   ]
  },
  {
   "cell_type": "code",
   "execution_count": 36,
   "id": "d9c78132-817d-4f2c-af09-9169414b3548",
   "metadata": {},
   "outputs": [],
   "source": [
    "## Create a file employee.txt\n",
    "f = open(\"employees.txt\",\"x\")"
   ]
  },
  {
   "cell_type": "code",
   "execution_count": 37,
   "id": "486e00b1-d0eb-465f-9d0a-8ca045818390",
   "metadata": {},
   "outputs": [],
   "source": [
    "## Write detail of employee including the name,age,salary\n",
    "f = open(\"employees.txt\",\"w\")\n",
    "f.write(\"\\nName = bhushan\")\n",
    "f.write(\"\\nage = 25\")\n",
    "f.write(\"\\nsalary = 10000$\")\n",
    "f.close()"
   ]
  },
  {
   "cell_type": "code",
   "execution_count": 38,
   "id": "b5ff0820-04ac-42a8-b24f-a04f237bb768",
   "metadata": {},
   "outputs": [
    {
     "name": "stdout",
     "output_type": "stream",
     "text": [
      "\n",
      "Name = bhushan\n",
      "age = 25\n",
      "salary = 10000$\n"
     ]
    }
   ],
   "source": [
    "## Read the file \n",
    "with open(\"employees.txt\",\"r\") as f :\n",
    "    print(f.read())"
   ]
  },
  {
   "cell_type": "markdown",
   "id": "098ef339-f92c-4967-9182-9ea44697a2eb",
   "metadata": {},
   "source": [
    "#### 17. Develop a Python script that opens an existing text file named “inventory.txt\" in read mode and displaysthe contents of the file line by line."
   ]
  },
  {
   "cell_type": "code",
   "execution_count": 39,
   "id": "fb0f075a-c7bf-475f-850c-df8c8586a7ec",
   "metadata": {},
   "outputs": [
    {
     "data": {
      "text/plain": [
       "'file_created'"
      ]
     },
     "execution_count": 39,
     "metadata": {},
     "output_type": "execute_result"
    }
   ],
   "source": [
    "create_file(\"inventory.txt\")"
   ]
  },
  {
   "cell_type": "code",
   "execution_count": 40,
   "id": "b75c83de-101c-42eb-ad32-1020dadc962f",
   "metadata": {},
   "outputs": [],
   "source": [
    "write_file(\"inventory.txt\",\"Enter the names of the files then open both files in read-only mode using the open() function and print the contents of the files before appending them using the read() function now close both files using the close() function. and open the first file in append mode and the second file in read mode. Append the contents of the second file to the first file using the write() function. Reposition the cursor of the files at the beginning using the seek() function. Print the contents of the appended files. and Close both files\\nwe first open (file1) and after it, we open (file2) we open file one in read mode and file2 in append mode then copyfileobj() the function reads data from file1 in chunks and appends it to file2 until the entire content is copied\\nWe here first open the target file2 in append mode. Then, by using fileinput.input(), we open the source file1 in read mode and iterate over its lines. and then for every line in file1, we write it to file2 using the write() method. This way work perfectly with large file to read and write data from one text file to another\")"
   ]
  },
  {
   "cell_type": "code",
   "execution_count": 44,
   "id": "6267c1ee-76ed-4704-bacc-ba221904356c",
   "metadata": {},
   "outputs": [
    {
     "data": {
      "text/plain": [
       "'Enter the names of the files then open both files in read-only mode using the open() function and print the contents of the files before appending them using the read() function now close both files using the close() function. and open the first file in append mode and the second file in read mode. Append the contents of the second file to the first file using the write() function. Reposition the cursor of the files at the beginning using the seek() function. Print the contents of the appended files. and Close both files\\nwe first open (file1) and after it, we open (file2) we open file one in read mode and file2 in append mode then copyfileobj() the function reads data from file1 in chunks and appends it to file2 until the entire content is copied\\nWe here first open the target file2 in append mode. Then, by using fileinput.input(), we open the source file1 in read mode and iterate over its lines. and then for every line in file1, we write it to file2 using the write() method. This way work perfectly with large file to read and write data from one text file to another'"
      ]
     },
     "execution_count": 44,
     "metadata": {},
     "output_type": "execute_result"
    }
   ],
   "source": [
    "file =open(\"inventory.txt\",\"r\")\n",
    "file.read()"
   ]
  },
  {
   "cell_type": "markdown",
   "id": "d9a8689a-132f-4ad0-a5f3-4c4cb7539032",
   "metadata": {},
   "source": [
    "#### 18. Create a Python script that reads a text file named \"“expenses.txt\" and calculates the total amount spend on various expenses listed in the file."
   ]
  },
  {
   "cell_type": "code",
   "execution_count": 69,
   "id": "79ba90da-2ae2-4648-ad20-6eb99c9c5d0e",
   "metadata": {},
   "outputs": [
    {
     "name": "stdout",
     "output_type": "stream",
     "text": [
      "{'Rent': 1000.0, 'Groceries': 250.5, 'Utilities': 100.75, 'Transportation': 50.0, 'Entertainment': 75.25}\n"
     ]
    }
   ],
   "source": [
    "expenses = {}\n",
    "with open(\"myfile.txt\",\"r\") as f:\n",
    "    for line in f :\n",
    "        line = line.strip()\n",
    "        if line:\n",
    "            item, amount = line.split(',')\n",
    "            amount = float(amount)\n",
    "            if item in expenses:\n",
    "                expenses[item] += amount\n",
    "            else:\n",
    "                expenses[item] = amount\n",
    "print(expenses)"
   ]
  },
  {
   "cell_type": "code",
   "execution_count": 70,
   "id": "65a5c23c-a7d6-4964-914c-d945f89d6b58",
   "metadata": {},
   "outputs": [
    {
     "data": {
      "text/plain": [
       "1476.5"
      ]
     },
     "execution_count": 70,
     "metadata": {},
     "output_type": "execute_result"
    }
   ],
   "source": [
    "## Calculate the expenses\n",
    "def calculte_expense(expenses):\n",
    "    return sum(expenses.values())\n",
    "\n",
    "calculte_expense(expenses)"
   ]
  },
  {
   "cell_type": "markdown",
   "id": "5cc50105-966f-46e3-9ade-10efb6ca1379",
   "metadata": {},
   "source": [
    "#### 19. Create a Python program that reads a text file named \"paragraph.txt\" and counts the occurrences of each word in the paragraph, displaying the results in alphabetical order."
   ]
  },
  {
   "cell_type": "code",
   "execution_count": 1,
   "id": "b0980392-20b5-4399-b974-8787e3b8b005",
   "metadata": {},
   "outputs": [],
   "source": [
    "import read_text_file.paragraph as p"
   ]
  },
  {
   "cell_type": "code",
   "execution_count": 8,
   "id": "c5ceb441-ba0a-433c-ab8a-abe7c64376e8",
   "metadata": {},
   "outputs": [
    {
     "name": "stdout",
     "output_type": "stream",
     "text": [
      "a: 2\n",
      "is: 2\n",
      "just: 1\n",
      "paragraph: 2\n",
      "sample: 2\n",
      "this: 2\n"
     ]
    }
   ],
   "source": [
    "p.main()"
   ]
  },
  {
   "cell_type": "markdown",
   "id": "ad9454e9-ad23-463e-88c8-74e863da7021",
   "metadata": {},
   "source": [
    "#### 20. What do you mean by Measure of Central Tendency and Measures of Dispersion .How it can be calculated,"
   ]
  },
  {
   "cell_type": "markdown",
   "id": "cf374fb9-bf68-41fa-8afd-ca9a403425ee",
   "metadata": {},
   "source": [
    "Ans :\n",
    "\n",
    "    In the discrptive statistics :\n",
    "1. measure of centeral tendancy\n",
    "2. measure of dispursion\n",
    "3. measure of symmetricity\n",
    "\n",
    "In the measure of centeral tendancy :=\n",
    "\n",
    "1. mean \n",
    "2. median \n",
    "3. mode\n",
    "\n",
    "\n",
    "In the measure of dispursion :-\n",
    "\n",
    "1. range\n",
    "2. percentile\n",
    "3. quartile\n",
    "4. IQR\n",
    "5. std\n",
    "6. variance"
   ]
  },
  {
   "cell_type": "markdown",
   "id": "1c6bb4f2-f6e6-45b4-b0db-c51071584d38",
   "metadata": {},
   "source": [
    "`Mean` ==> Avarage value of data.\n",
    "mean = sum(xi)/N\n",
    "\n",
    "\n",
    "`median` ==> mid point value of data.\n",
    "Ex - [1,2,3,4,5]  ==> 3 is median\n",
    "     [1,2,3,4,5,6] ===> (3+4)/2 is median\n",
    "\n",
    "\n",
    "`Mode` ==> most frequent value of data.\n",
    "\n",
    "ex . [1,2,3,1,2,3,1] ==> mode is 1\n"
   ]
  },
  {
   "cell_type": "markdown",
   "id": "dcae87e7-9963-4e21-b274-2602adb9bf03",
   "metadata": {},
   "source": [
    "`variance` ==> variance mean the spread of data how data point are vary from mean.\n",
    " var = sum(xi -x`)/n-1\n",
    "\n",
    "\n",
    "`std deviation` ==> the measure of distrubution of statistical data.\n",
    " sigma = root(variance)\n"
   ]
  },
  {
   "cell_type": "markdown",
   "id": "f9976fe6-173b-4152-a197-d4d6222be369",
   "metadata": {},
   "source": [
    "#### 21. What do you mean by skewness.Explain its types.Use graph to show.\n"
   ]
  },
  {
   "attachments": {
    "08074bd8-6913-41f4-b500-d671b99c3e67.png": {
     "image/png": "[encoded data removed]"
    },
    "17dd3607-90fe-48c1-bac9-8b3920bee0ef.png": {
     "image/png": "[encoded data removed]"
    }
   },
   "cell_type": "markdown",
   "id": "5298c323-398b-471c-afde-0f7eb5af288c",
   "metadata": {},
   "source": [
    "Ans:\n",
    "\n",
    " Skewness Right and left skew:==>\n",
    "\n",
    "![image.png](attachment:08074bd8-6913-41f4-b500-d671b99c3e67.png)![image.png](attachment:17dd3607-90fe-48c1-bac9-8b3920bee0ef.png)"
   ]
  },
  {
   "cell_type": "markdown",
   "id": "ef7b7a2a-3728-431f-8e94-1386484bb770",
   "metadata": {},
   "source": [
    "In given -middle digrams\n",
    "\n",
    "if skew ness =0 so mean = median = mode that is called as normal or gausssion distrubution."
   ]
  },
  {
   "cell_type": "markdown",
   "id": "13579f1f-6f78-4fe9-a1b7-44a749166ea2",
   "metadata": {},
   "source": [
    "In given Left side digram :\n",
    "\n",
    "if tail is available on right side of data that type of data is called as right skewed data. in these data mean >=median>=mode so its is right skewed.\n"
   ]
  },
  {
   "cell_type": "markdown",
   "id": "d998c230-75f3-46ab-abd3-6e16945a643d",
   "metadata": {},
   "source": [
    "In given right side digram==>\n",
    "\n",
    "if tail is available on left side of data that type of data is called as left skewed data. in these data mean<=median<=mode so its is left skewed."
   ]
  },
  {
   "cell_type": "markdown",
   "id": "259311f5-e54d-49cd-b4d9-263e96f936dc",
   "metadata": {},
   "source": [
    "#### 22. Explain PROBABILITY MASS FUNCTION (PM F) and PROBABILITY DENSITY FUNCTION (PDF). and what is the difference between them."
   ]
  },
  {
   "cell_type": "markdown",
   "id": "a4780e6b-bf02-4c99-9e4b-4be707338411",
   "metadata": {},
   "source": [
    "Ans :\n",
    "\n",
    "##### Probabilty Density function :\n",
    "In probability theory, a probability density function (PDF), density function, or density of an absolutely continuous random variable, is a function whose value at any given sample (or point) in the sample space (the set of possible values taken by the random variable) can be interpreted as providing a relative likelihood that the value of the random variable would be equal to that sample.[2][3] Probability density is the probability per unit length, in other words, while the absolute likelihood for a continuous random variable to take on any particular value is 0 (since there is an infinite set of possible values to begin with), the value of the PDF at two different samples can be used to infer, in any particular draw of the random variable, how much more likely it is that the random variable would be close to one sample compared to the other sample."
   ]
  },
  {
   "cell_type": "markdown",
   "id": "6c0c6e1b-f02a-4213-854c-7971a5206142",
   "metadata": {},
   "source": [
    "##### Probabilty Mass function :\n",
    "In probability and statistics, a probability mass function (sometimes called probability function or frequency function[1]) is a function that gives the probability that a discrete random variable is exactly equal to some value.[2] Sometimes it is also known as the discrete probability density function. The probability mass function is often the primary means of defining a discrete probability distribution, and such functions exist for either scalar or multivariate random variables whose domain is discrete"
   ]
  },
  {
   "cell_type": "markdown",
   "id": "eb0f4bfc-f5a9-4978-9075-02a544638cc1",
   "metadata": {},
   "source": [
    "Defferance between PDF & PMF\n",
    "\n",
    "\n",
    "1. PDF is used continious random variable.\n",
    "2. PMF is used discreate variable."
   ]
  },
  {
   "cell_type": "markdown",
   "id": "980604a1-60f8-42c8-a3f2-a2ee950302fe",
   "metadata": {},
   "source": [
    "#### 23.What is correlation. Explain its type in details.what are the methods of determining correlation"
   ]
  },
  {
   "cell_type": "markdown",
   "id": "99bb9ad4-6bf2-4c7e-bc4e-2388b8b3519e",
   "metadata": {},
   "source": [
    "Ans: \n",
    "\n",
    "correlation means finding the relationship between toi random variable. If the slope of the line is negative, the two variables follow a negative correlation. If the slope is positive, it is a positive correlation. \n",
    "\n",
    "##### types of correlations :-\n",
    "1.pearson correlation\n",
    "\n",
    "2.spearman correaltion.\n"
   ]
  },
  {
   "cell_type": "markdown",
   "id": "f5306983-d785-4b00-953f-4995fc6f225e",
   "metadata": {},
   "source": [
    "##### Pearson correlation:--\n",
    "The first person to give a mathematical formula for the measurement of the degree of relationship between two variables in 1890 was Karl Pearson. Karl Pearson’s Coefficient of Correlation is also known as Product Moment Correlation or Simple Correlation Coefficient. This method of measuring the coefficient of correlation is the most popular and is widely used. It is denoted by ‘r’, where r is a pure number which means that r has no unit. "
   ]
  },
  {
   "cell_type": "markdown",
   "id": "fea72819-a565-469b-afa7-94f102e44f2d",
   "metadata": {},
   "source": [
    "##### Spearman Correlation:--\n",
    "\n",
    "Spearman’s Rank Correlation Coefficient or Spearman’s Rank Difference Method or Formula is a method of calculating the correlation coefficient of qualitative variables and was developed in 1904 by Charles Edward Spearman. In other words, the formula determines the correlation coefficient of variables like beauty, ability, honesty, etc., whose quantitative measurement is not possible. Therefore, these attributes are ranked or put in the order of their preference. "
   ]
  },
  {
   "cell_type": "markdown",
   "id": "352393e0-c230-4dac-9965-2ccbce68760e",
   "metadata": {},
   "source": [
    "#### 24. Calculate coefficient of correlation between the marks obtained by 10 students in Accountancy and statistics:\n",
    "\n",
    "Student l 2 3 4 5 6 7 8 9 10\n",
    "Accountancy 45 70 65 30 % 40 350 75 85 60\n",
    "Statistics 35 90 70 40 9 40 60 80 80 50\n",
    "\n",
    "Use Karl Pearson's Coefficient of Correlation Method to find it."
   ]
  },
  {
   "cell_type": "code",
   "execution_count": 1,
   "id": "831237d6-54df-47f4-aee9-fabfb55d29d9",
   "metadata": {},
   "outputs": [],
   "source": [
    "Student=[1, 2, 3, 4, 5, 6, 7, 8, 9, 10]\n",
    "Accountancy=[45, 70, 65 ,30,90, 40, 350, 75, 85, 60,]\n",
    "Statistics=[35 ,90, 70, 40, 90, 40, 60, 80, 80, 50]"
   ]
  },
  {
   "cell_type": "code",
   "execution_count": 10,
   "id": "d7cff108-db4c-436d-9e89-477782d8e7d5",
   "metadata": {},
   "outputs": [],
   "source": [
    "import pandas as pd\n",
    "import numpy as np\n",
    "\n",
    "df =pd.DataFrame(data=list(zip(Student,Accountancy,Statistics)),columns=[\"Student\",\"Accountancy\",\"Statistics\"])"
   ]
  },
  {
   "cell_type": "code",
   "execution_count": 11,
   "id": "badf9f30-f287-483a-949a-31eab0e9660f",
   "metadata": {},
   "outputs": [
    {
     "data": {
      "text/html": [
       "<div>\n",
       "<style scoped>\n",
       "    .dataframe tbody tr th:only-of-type {\n",
       "        vertical-align: middle;\n",
       "    }\n",
       "\n",
       "    .dataframe tbody tr th {\n",
       "        vertical-align: top;\n",
       "    }\n",
       "\n",
       "    .dataframe thead th {\n",
       "        text-align: right;\n",
       "    }\n",
       "</style>\n",
       "<table border=\"1\" class=\"dataframe\">\n",
       "  <thead>\n",
       "    <tr style=\"text-align: right;\">\n",
       "      <th></th>\n",
       "      <th>Student</th>\n",
       "      <th>Accountancy</th>\n",
       "      <th>Statistics</th>\n",
       "    </tr>\n",
       "  </thead>\n",
       "  <tbody>\n",
       "    <tr>\n",
       "      <th>0</th>\n",
       "      <td>1</td>\n",
       "      <td>45</td>\n",
       "      <td>35</td>\n",
       "    </tr>\n",
       "    <tr>\n",
       "      <th>1</th>\n",
       "      <td>2</td>\n",
       "      <td>70</td>\n",
       "      <td>90</td>\n",
       "    </tr>\n",
       "    <tr>\n",
       "      <th>2</th>\n",
       "      <td>3</td>\n",
       "      <td>65</td>\n",
       "      <td>70</td>\n",
       "    </tr>\n",
       "    <tr>\n",
       "      <th>3</th>\n",
       "      <td>4</td>\n",
       "      <td>30</td>\n",
       "      <td>40</td>\n",
       "    </tr>\n",
       "    <tr>\n",
       "      <th>4</th>\n",
       "      <td>5</td>\n",
       "      <td>90</td>\n",
       "      <td>90</td>\n",
       "    </tr>\n",
       "  </tbody>\n",
       "</table>\n",
       "</div>"
      ],
      "text/plain": [
       "   Student  Accountancy  Statistics\n",
       "0        1           45          35\n",
       "1        2           70          90\n",
       "2        3           65          70\n",
       "3        4           30          40\n",
       "4        5           90          90"
      ]
     },
     "execution_count": 11,
     "metadata": {},
     "output_type": "execute_result"
    }
   ],
   "source": [
    "df.head()"
   ]
  },
  {
   "cell_type": "code",
   "execution_count": 12,
   "id": "64e8bc20-b337-4fc6-8f68-4b83193a0c60",
   "metadata": {
    "scrolled": true
   },
   "outputs": [
    {
     "data": {
      "text/html": [
       "<div>\n",
       "<style scoped>\n",
       "    .dataframe tbody tr th:only-of-type {\n",
       "        vertical-align: middle;\n",
       "    }\n",
       "\n",
       "    .dataframe tbody tr th {\n",
       "        vertical-align: top;\n",
       "    }\n",
       "\n",
       "    .dataframe thead th {\n",
       "        text-align: right;\n",
       "    }\n",
       "</style>\n",
       "<table border=\"1\" class=\"dataframe\">\n",
       "  <thead>\n",
       "    <tr style=\"text-align: right;\">\n",
       "      <th></th>\n",
       "      <th>Student</th>\n",
       "      <th>Accountancy</th>\n",
       "      <th>Statistics</th>\n",
       "    </tr>\n",
       "  </thead>\n",
       "  <tbody>\n",
       "    <tr>\n",
       "      <th>Student</th>\n",
       "      <td>1.000000</td>\n",
       "      <td>0.236692</td>\n",
       "      <td>0.107431</td>\n",
       "    </tr>\n",
       "    <tr>\n",
       "      <th>Accountancy</th>\n",
       "      <td>0.236692</td>\n",
       "      <td>1.000000</td>\n",
       "      <td>0.130903</td>\n",
       "    </tr>\n",
       "    <tr>\n",
       "      <th>Statistics</th>\n",
       "      <td>0.107431</td>\n",
       "      <td>0.130903</td>\n",
       "      <td>1.000000</td>\n",
       "    </tr>\n",
       "  </tbody>\n",
       "</table>\n",
       "</div>"
      ],
      "text/plain": [
       "              Student  Accountancy  Statistics\n",
       "Student      1.000000     0.236692    0.107431\n",
       "Accountancy  0.236692     1.000000    0.130903\n",
       "Statistics   0.107431     0.130903    1.000000"
      ]
     },
     "execution_count": 12,
     "metadata": {},
     "output_type": "execute_result"
    }
   ],
   "source": [
    "df.corr() ## Pearson corr"
   ]
  },
  {
   "cell_type": "markdown",
   "id": "2e554a20-2575-428d-8831-b0f9864956a6",
   "metadata": {},
   "source": [
    "1. student & accountancy 23%  Positively correlated.\n",
    "2. accountancy & statistics is 13% postive correlation."
   ]
  },
  {
   "cell_type": "markdown",
   "id": "eb1bbe0d-0251-4f6c-b952-0bf2d3ba4576",
   "metadata": {},
   "source": [
    "#### 25. Discuss the 4 differences between correlation and regression."
   ]
  },
  {
   "cell_type": "markdown",
   "id": "13164b98-6bda-4cc9-be95-62a0c398c16e",
   "metadata": {},
   "source": [
    "Ans :\n",
    "\n",
    "#### Correlation\tRegression\n",
    "\n",
    "‘Correlation’, as the name says, it determines the interconnection or a co-relationship between the variables.\t‘Regression’ explains how an independent variable is numerically associated with the dependent variable.\n",
    "\n",
    "In Correlation, both the independent and dependent values have no difference.\tHowever, in Regression, both the dependent and independent variables are different.\n",
    "    \n",
    "The primary objective of Correlation is to find out a quantitative/numerical value expressing the association between the values.\tRegression’s main purpose is to calculate the values of a random variable based on the values of a fixed variable.\n",
    "    \n",
    "Correlation stipulates the degree to which both variables can move together.\tHowever, regression specifies the effect of the change in the unit in the known variable(p) on the evaluated variable (q).\n",
    "\n",
    "Correlation helps to constitute the connection between the two variables.\tRegression helps in estimating a variable’s value based on another given value."
   ]
  },
  {
   "cell_type": "markdown",
   "id": "ec06f375-6da6-4a1f-b6a0-8a3f655139c2",
   "metadata": {},
   "source": [
    "#### 26. Find the most likely price at Delhi corresponding to the price of Rs. 70 at Agra from the following data: Coefficient of correlation between the prices of the two places +0.8."
   ]
  },
  {
   "cell_type": "markdown",
   "id": "09b80e27-dcf8-4f54-97db-90af7b9eb448",
   "metadata": {},
   "source": [
    "Ans :\n",
    "\n",
    "Data:\n",
    "\n",
    "Correlation Coefficient (Agra & Delhi) = +0.8\n",
    "\n",
    "Price at Agra = Rs. 70 (given)\n",
    "\n",
    "Let's assume a standard deviation (SD) of 1 for both Agra and Delhi (this can be adjusted if actual values are available).\n",
    "\n",
    "Calculate Covariance:\n",
    "\n",
    "Covariance = Correlation Coefficient * SD(Agra) * SD(Delhi)\n",
    "\n",
    "Covariance = 0.8 * 1 * 1 = 0.8\n",
    "\n",
    "Estimate Mean Price at Delhi:\n",
    "\n",
    "We can estimate the mean price at Delhi based on the price at Agra and the covariance.\n",
    "\n",
    "Mean(Delhi) = Price(Agra) + (Covariance / SD(Agra))\n",
    "\n",
    "Mean(Delhi) = Rs. 70 + (0.8 / 1) = Rs. 70.8\n",
    "\n",
    "Therefore, based on the given correlation and assumed standard deviations, the estimated price for the same item in Delhi is Rs. 70.8."
   ]
  },
  {
   "cell_type": "markdown",
   "id": "5304488f-7bd1-43f8-953a-84a1d55a844b",
   "metadata": {},
   "source": [
    "#### 27. Ina partially destroyed laboratory record of an analysis of correlation data, the following results only are legible: Variance of x = 9, Regression equations are: (i) 8x-10y = -66; (ii) 40x - 18y = 214. What are (a) the mean values of x and y, (b) the coefficient of correlation between x and y, (c) the o of y.\n"
   ]
  },
  {
   "cell_type": "markdown",
   "id": "72e4be64-f56f-40d8-9768-da1e8f9776b5",
   "metadata": {},
   "source": [
    "Ans:\n",
    "\n",
    "Regression Equations:\n",
    "\n",
    "The given equations represent two possible regression lines:\n",
    "\n",
    "(i) 8x - 10y = -66 (likely regression of y on x)\n",
    "(ii) 40x - 18y = 214 (likely regression of x on y)\n",
    "\n",
    "Coefficient of Correlation (r):\n",
    "Even though we have two regression equations, both contain the same variables (x and y). We can leverage this to find the correlation coefficient (r). Here's how:\n",
    "\n",
    "The slope of the regression line (b) relates to the correlation coefficient through the formula:\n",
    "\n",
    "b_YX (slope of y on x) = - r * (SD_x / SD_y)\n",
    "\n",
    "b_XY (slope of x on y) = r * (SD_y / SD_x)\n",
    "\n",
    "Since both slopes are negative inverses of each other (given by the - sign), it implies a positive correlation between x and y.\n",
    "\n",
    "We can equate the expressions for b_YX and b_XY (as both represent the correlation coefficient):\n",
    "(-10 / 8) = r * (1 / SD_y) = r * (SD_x / 18)\n",
    "\n",
    "Unfortunately, due to missing standard deviations, we cannot solve for the exact value of r. However, we know it's positive based on the negative inverses of the slopes."
   ]
  },
  {
   "cell_type": "markdown",
   "id": "7542f24f-8a17-487e-80df-cb21df61d81a",
   "metadata": {},
   "source": [
    "#### 28. Whatis Normal Distribution? What are the four Assumptions of Normal Distribution? Explain in detail."
   ]
  },
  {
   "cell_type": "markdown",
   "id": "b612fd1d-f8ab-45c9-a9cf-48deb99e63eb",
   "metadata": {},
   "source": [
    "Ans :\n",
    "\n",
    "In a normal distribution, mean (average), median (midpoint), and mode (most frequent observation) are equal. These values represent the peak or highest point. The distribution then falls symmetrically around the mean, the width of which is defined by the standard deviation."
   ]
  },
  {
   "cell_type": "markdown",
   "id": "829a1aba-4f05-4a5d-a1ad-e0b5c7d0fb76",
   "metadata": {},
   "source": [
    "#### The assumptions made for a normal distribution include:\n",
    "\n",
    "`Unimodal and Symmetric`: The normal distribution is symmetric around its mean, with the mean, median, and mode all being equal. The distribution is bell-shaped and unimodal, meaning it has only one peak.\n",
    "\n",
    "`Continuous Random Variable`: The normal distribution is defined for continuous random variables. It is not appropriate for discrete data.\n",
    "\n",
    "`Mean and Variance`: The distribution is fully described by its mean (μ) and variance (σ^2). The mean specifies the center of the distribution, and the variance determines the spread or dispersion around the mean.\n",
    "\n",
    "`Independence`: If the data is a sample from a population, the observations should be independent of each other. This means that one observation should not influence another.\n",
    "Fixed Shape: The shape of the normal distribution is fixed, regardless of the mean and variance values. This means that once the mean and variance are specified, the shape of the distribution is determined.\n",
    "\n",
    "`No Outliers`: The normal distribution assumes that there are no outliers in the data that significantly skew the results. Outliers can have a large impact on the estimation of the mean and variance.\n",
    "\n",
    "`No Skewness or Kurtosis`: The normal distribution assumes that the data is not skewed (asymmetrical) or kurtotic (heavy-tailed) but instead follows a symmetric bell-shaped curve."
   ]
  },
  {
   "cell_type": "markdown",
   "id": "21972ba5-c466-4871-b5da-96f8a529410d",
   "metadata": {},
   "source": [
    "#### 29.Write all the characteristics or Properties of the Normal Distribution Curve\n"
   ]
  },
  {
   "cell_type": "markdown",
   "id": "215cc50c-bea5-4fed-80ee-36dc0adf85cb",
   "metadata": {},
   "source": [
    "Ans :\n",
    "\n",
    "Normal distributions are symmetric, unimodal, and asymptotic, and the mean, median, and mode are all equal. A normal distribution is perfectly symmetrical around its center. That is, the right side of the center is a mirror image of the left side."
   ]
  },
  {
   "cell_type": "markdown",
   "id": "b3d941b7-b706-4ede-8df6-fa7bbfd747d0",
   "metadata": {},
   "source": [
    "#### 30.Which of the following options are correct about Normal Distribution Curve.\n",
    "\n",
    "(a) Within a range 0.6745 of o on both sides the middle 50% of the observations occur j,e. mean £0.67450\n",
    "covers 50% area 25% on each side.\n",
    "\n",
    "(b) Mean #15.D, (i,e.) + lo) covers 68.268% area, 34.134 % area lies on either side of the mean.\n",
    "\n",
    "(c) Mean +#25.D. (ie. + 20) covers 25.45% area, 47.725% area lies on either side of the mean.\n",
    "\n",
    "(d) Mean +3 S.D. (ie. p +30) covers 99.73% area, 49.856% area lies on the either side of the mean.\n",
    "\n",
    "(e) Only 0.27% area is outside the range u +30."
   ]
  },
  {
   "cell_type": "markdown",
   "id": "cb369c49-0291-4330-b40f-e73a5c065f99",
   "metadata": {},
   "source": [
    "Ans :\n",
    "Correct points are\n",
    "\n",
    "1)b\n",
    "2)c\n",
    "3)d"
   ]
  },
  {
   "cell_type": "markdown",
   "id": "036909b9-ef09-4790-8c22-b417b58ce311",
   "metadata": {},
   "source": [
    "#### 31. The mean of a distribution is 60 with a standard deviation of 10. Assuming that the distribution is normal, what percentage of items be (i) between 60 and 72, (ii) between 50 and 60, (iii) beyond 72 and (iv) between 70 and 80?"
   ]
  },
  {
   "cell_type": "markdown",
   "id": "2b5efb12-6901-454e-92bb-4133905cdc31",
   "metadata": {},
   "source": [
    "https://qph.cf2.quoracdn.net/main-qimg-93fd7ac91fc4af4651db38bc4d5d2a79"
   ]
  },
  {
   "cell_type": "markdown",
   "id": "527d76b8-b6c0-42df-8c10-992ca461d0bf",
   "metadata": {},
   "source": [
    "Ans :\n",
    "    \n",
    "    Mean distrubution = 60 \n",
    "    std dev = 10\n",
    "    \n",
    "    Assuming that the distribution is normal, what percentage of items be==>\n",
    "    \n",
    "    1) between 60 and 72  ==>  36.76 %\n",
    "    \n",
    "    2)between 50 and 60  ==>  34.1%\n",
    "    \n",
    "    3)beyond 72   ==> 13.08%\n",
    "    \n",
    "    4)between 70 and 80 ===>  15.8%"
   ]
  },
  {
   "cell_type": "markdown",
   "id": "ffabe447-0581-468d-a10e-871b33ffa4b2",
   "metadata": {},
   "source": [
    "#### 32. 15000 students sat for an examination. The mean marks was 49 and the distribution of marks hada standard deviation of 6. Assuming that the marks were normally distributed what proportion of students scored (a) more than 55 marks, (b) more than 70 marks"
   ]
  },
  {
   "cell_type": "markdown",
   "id": "9414855c-0378-4176-ad42-995160adc24f",
   "metadata": {},
   "source": [
    "Ans :\n",
    "    \n",
    "    mean marks  =49 \n",
    "    std dev = 6\n",
    "    \n",
    "(a) more than 55 marks to find the z score\n",
    "\n",
    "z-score = xi -u /std dev\n",
    "\n",
    "z-score= 55 -49 /6  =1 \n",
    "\n",
    "if z score is 1 by using ztable values is 0.84134\n",
    "\n",
    "the proportion of student mark score is 1- 0.84134 = 0.15886 *1500 = 238.29  "
   ]
  },
  {
   "cell_type": "markdown",
   "id": "20992748-eb11-44ef-baf0-56c9028050a6",
   "metadata": {},
   "source": [
    "b)more than 70 marks\n",
    "\n",
    "z score = xi -u /std dev\n",
    "\n",
    "z score = 3.5\n",
    "\n",
    "z critical  =0.99977\n",
    "\n",
    "the proportion of student mark score is 1- 0.99977 = 2.3* 10^--7 \n",
    "\n",
    "2.3 * 1500 =3.45"
   ]
  },
  {
   "cell_type": "markdown",
   "id": "1fd1b58d-a384-4b5c-8467-6db54c2078fc",
   "metadata": {},
   "source": [
    "#### 33. If the height of 500 students are normally distributed with mean 65 inch and standard deviation 5 inch. How many students have height: a) greater than 70 inch. b) between 60 and 70 inch."
   ]
  },
  {
   "cell_type": "markdown",
   "id": "1e28f577-f019-4f4c-a923-04a57d976630",
   "metadata": {},
   "source": [
    "Ans :\n",
    "    \n",
    "    n  = 500 \n",
    "    mean = 65 \n",
    "    std dev = 5 inch\n",
    "    \n",
    "    \n",
    "a) greater than 70 inch   \n",
    "\n",
    "z score  = xi -u / std dev = 70 - 65 /5 = 1\n",
    "\n",
    "by using z table The z-score of 1 corresponds to a cumulative probability of approximately 0.8413. This means that 84.13% of the students have heights less than 70 inches\n",
    "\n",
    "o find the percentage of students taller than 70 inches, we subtract this value from 1:\n",
    "1 - 0.84134 = 0.1587\n",
    "\n",
    "Therefore, the number of students taller than 70 inches is:\n",
    "\n",
    "0.1587×500≈  79.35\n"
   ]
  },
  {
   "cell_type": "markdown",
   "id": "477782b0-e2e4-413b-8d1a-0b8f95ecfe1b",
   "metadata": {},
   "source": [
    "##### between 60 and 70 inch.\n",
    "\n",
    "for 60 inch ==> zscore  = 60 -65 /5  = -1\n",
    "\n",
    "for 70 inch ==> zscore  = 75 -65 /5  = 1\n",
    "\n",
    "\n",
    "Next, we find the cumulative probabilities for these z-scores. The z-score of -1 corresponds to a cumulative probability of approximately 0.1587, and the z-score of 1 corresponds to a cumulative probability of approximately 0.8413.\n",
    "\n",
    "\n",
    "To find the probability of a student having a height between 60 and 70 inches, we subtract the cumulative probability for the lower z-score from the cumulative probability for the higher z-score:\n",
    "\n",
    "therefore  0.8413−0.1587=0.6826\n",
    "\n",
    "Therefore, the number of students with heights between 60 and 70 inches is:\n",
    "\n",
    "0.6826× 500≈341.3\n",
    "\n",
    "\n"
   ]
  },
  {
   "cell_type": "markdown",
   "id": "6debc5ee-482f-4e18-85f4-30262cb98303",
   "metadata": {},
   "source": [
    "#### 34. What is the statistical hypothesis? Explain the errors in hypothesis testing.b)Explain the Sample. What are Large Samples & Small Samples?"
   ]
  },
  {
   "cell_type": "markdown",
   "id": "7b23ff33-e784-428d-9cf3-3e155e9528e2",
   "metadata": {},
   "source": [
    "Ans :\n",
    "    \n",
    "    Statistical hypothesis: A statement about the nature of a population. It is often stated in terms of a population parameter. Null hypothesis: A statistical hypothesis that is to be tested."
   ]
  },
  {
   "cell_type": "markdown",
   "id": "0b1901be-dae4-4179-94ae-0fd5cf6a4ccd",
   "metadata": {},
   "source": [
    "Error in hypothesis testing :\n",
    "\n",
    "\n",
    "    Two potential types of statistical error are Type I error (α, or level of significance), when one falsely rejects a null hypothesis that is true, and Type II error (β), when one fails to reject a null hypothesis that is false."
   ]
  },
  {
   "cell_type": "markdown",
   "id": "6ae9ed91-f723-4cbe-a8e7-469803be85df",
   "metadata": {},
   "source": [
    "samples :\n",
    "    \n",
    "    In statistical context, a sample is considered to be large if it is at least 30. On the other hand, a sample is considered small is it is less than than 30. This rule is based on the central limit theorem."
   ]
  },
  {
   "cell_type": "markdown",
   "id": "d3988faa-b008-47cc-8397-eb76653d0b07",
   "metadata": {},
   "source": [
    "what is large and small sample ?\n",
    "\n",
    "Large and Small sample theory. Large sample theory. The sample size n is greater than 30 (n≥30) it is known as large sample. For large samples the sampling distributions of statistic are normal(Z test). A study of sampling distribution of statistic for large sample is known as large sample theory"
   ]
  },
  {
   "cell_type": "markdown",
   "id": "f639e234-cbbf-4819-8953-c0fabedab35a",
   "metadata": {},
   "source": [
    "#### 35.4 random sample of size 25 from a population gives the sample standard derivation to be 9.0. Test the hypothesis that the population standard derivation is 10.5. Hint(Use chi-square distribution)."
   ]
  },
  {
   "cell_type": "markdown",
   "id": "3246de4c-b327-481a-b54a-56298b8e25cb",
   "metadata": {
    "tags": []
   },
   "source": [
    "Ans :\n",
    "\n",
    "\n",
    "To test the hypothesis that the population standard deviation (\\(\\sigma\\)) is 10.5 using the chi-square distribution, we follow these steps:\n",
    "\n",
    "1. **State the hypotheses:**\n",
    "   - Null hypothesis ((H_0)): (sigma = 10.5)\n",
    "   - Alternative hypothesis ((H_a)): (sigma neq 10.5)\n",
    "\n",
    "2. **Calculate the test statistic:**\n",
    "\n",
    "   The test statistic for the chi-square test of a single variance is given by:\n",
    "\n",
    "   chi^2 = frac{(n-1)s^2}{sigma_0^2}]\n",
    "\n",
    "   Where:\n",
    "   - \\(n\\) is the sample size (25)\n",
    "   - \\(s\\) is the sample standard deviation (9.0)\n",
    "   - \\(\\sigma_0\\) is the hypothesized population standard deviation (10.5)\n",
    "\n",
    "   First, calculate the sample variance \\(s^2\\) and the hypothesized population variance \\(\\sigma_0^2\\):\n",
    "\n",
    "   \\[\n",
    "   s^2 = 9.0^2 = 81\n",
    "   \\]\n",
    "\n",
    "   \\[\n",
    "   \\sigma_0^2 = 10.5^2 = 110.25\n",
    "   \\]\n",
    "\n",
    "   Now, calculate the chi-square test statistic:\n",
    "\n",
    "   \\[\n",
    "   \\chi^2 = \\frac{(25-1) \\times 81}{110.25} = \\frac{24 \\times 81}{110.25}\n",
    "   \\]\n",
    "\n",
    "   \\[\n",
    "   \\chi^2 \\approx \\frac{1944}{110.25} \\approx 17.63\n",
    "   \\]\n",
    "\n",
    "3. **Determine the degrees of freedom:**\n",
    "\n",
    "   The degrees of freedom (\\(df\\)) for this test is \\(n-1\\):\n",
    "\n",
    "   \\[\n",
    "   df = 25 - 1 = 24\n",
    "   \\]\n",
    "\n",
    "4. **Find the critical value and compare:**\n",
    "\n",
    "   For a two-tailed test at a significance level (\\(\\alpha\\)) of 0.05, we need to find the critical values for \\(\\chi^2\\) with 24 degrees of freedom. Using a chi-square table or calculator, we find the critical values:\n",
    "\n",
    "   - Lower critical value (\\(\\chi^2_{0.025, 24}\\)) ≈ 12.401\n",
    "   - Upper critical value (\\(\\chi^2_{0.975, 24}\\)) ≈ 39.364\n",
    "\n",
    "   Now, compare the test statistic to the critical values:\n",
    "\n",
    "   - If \\(\\chi^2 < 12.401\\) or \\(\\chi^2 > 39.364\\), we reject the null hypothesis.\n",
    "   - If \\(12.401 \\leq \\chi^2 \\leq 39.364\\), we fail to reject the null hypothesis.\n",
    "\n",
    "   In this case, our test statistic (\\(17.63\\)) falls within the range \\(12.401 \\leq 17.63 \\leq 39.364\\).\n",
    "\n",
    "5. **Conclusion:**\n",
    "\n",
    "   Since \\(17.63\\) is within the range of the critical values, we fail to reject the null hypothesis. There is not enough evidence to conclude that the population standard deviation is different from 10.5.\n",
    "\n",
    "So, we do not reject the hypothesis that the population standard deviation is 10.5 at the 0.05 significance level."
   ]
  },
  {
   "cell_type": "markdown",
   "id": "0f159b8c-c3f0-4582-924f-6b7fa97748fa",
   "metadata": {},
   "source": [
    "#### 37.100 students of a PW IO! obtained the following grades in Data Science paper:\n",
    "Grade :[A, B, C, D, E]\n",
    "\n",
    "Total Frequency :[15, 17, 30, 22, 16, 100]\n",
    "\n",
    "Using the y 2 test, examine the hypothesis that the distribution of grades is uniform.\n"
   ]
  },
  {
   "cell_type": "code",
   "execution_count": 2,
   "id": "2aa16f26-ad76-4fdf-8195-ddf0163f7751",
   "metadata": {},
   "outputs": [
    {
     "name": "stdout",
     "output_type": "stream",
     "text": [
      "Chi-square statistic: 7.7\n",
      "p-value: 0.10320672172612926\n",
      "Degrees of freedom: 4\n",
      "Fail to reject the null hypothesis: The distribution of grades is uniform.\n"
     ]
    }
   ],
   "source": [
    "import numpy as np\n",
    "from scipy.stats import chisquare\n",
    "\n",
    "# Observed frequencies\n",
    "observed_frequencies = np.array([15, 17, 30, 22, 16])\n",
    "\n",
    "# Expected frequencies (uniform distribution)\n",
    "expected_frequencies = np.array([20, 20, 20, 20, 20])\n",
    "\n",
    "# Calculate the chi-square test statistic and p-value\n",
    "chi2_statistic, p_value = chisquare(observed_frequencies, f_exp=expected_frequencies)\n",
    "\n",
    "# Degrees of freedom\n",
    "df = len(observed_frequencies) - 1\n",
    "\n",
    "# Print the results\n",
    "print(f\"Chi-square statistic: {chi2_statistic}\")\n",
    "print(f\"p-value: {p_value}\")\n",
    "print(f\"Degrees of freedom: {df}\")\n",
    "\n",
    "# Determine if we reject the null hypothesis\n",
    "alpha = 0.05\n",
    "if p_value < alpha:\n",
    "    print(\"Reject the null hypothesis: The distribution of grades is not uniform.\")\n",
    "else:\n",
    "    print(\"Fail to reject the null hypothesis: The distribution of grades is uniform.\")"
   ]
  },
  {
   "cell_type": "markdown",
   "id": "8e98da39-02c7-4849-91bd-9c973b5cb269",
   "metadata": {},
   "source": [
    "#### 38.Anova Test:\n",
    "\n",
    "To study the performance of three detergents and three different water temperatures the following\n",
    "\n",
    "whiteness readings were obtained with specially designed equipment.\n",
    "\n",
    "Water temp Detergents A Detergents B Detergents C\n",
    "Cold Water 37 55 67\n",
    "Worm Water 49 JZ 68\n",
    "Hot Water 34 46 38"
   ]
  },
  {
   "cell_type": "code",
   "execution_count": 14,
   "id": "c8cd1ce5-6234-4645-b640-9affd85f71c6",
   "metadata": {},
   "outputs": [],
   "source": [
    "import pandas as pd\n",
    "from scipy import stats\n",
    "\n",
    "# Data with error correction (assuming 'JZ' was a typo for a numerical value)\n",
    "data = {\n",
    "    'Water Temp': ['Cold Water', 'Worm Water', 'Hot Water'],\n",
    "    'Detergent A': [57, 55, 67],\n",
    "    'Detergent B': [49, 52, 68],  # Assuming 'JZ' was a typo\n",
    "    'Detergent C': [54, 46, 58]\n",
    "}"
   ]
  },
  {
   "cell_type": "code",
   "execution_count": 15,
   "id": "f72c9703-03ca-4dfa-8609-232e1ea762cd",
   "metadata": {},
   "outputs": [
    {
     "data": {
      "text/plain": [
       "{'Water Temp': ['Cold Water', 'Worm Water', 'Hot Water'],\n",
       " 'Detergent A': [57, 55, 67],\n",
       " 'Detergent B': [49, 52, 68],\n",
       " 'Detergent C': [54, 46, 58]}"
      ]
     },
     "execution_count": 15,
     "metadata": {},
     "output_type": "execute_result"
    }
   ],
   "source": [
    "data"
   ]
  },
  {
   "cell_type": "code",
   "execution_count": 17,
   "id": "110a130e-3999-45e8-bec0-d51d6b270a6e",
   "metadata": {},
   "outputs": [
    {
     "data": {
      "text/html": [
       "<div>\n",
       "<style scoped>\n",
       "    .dataframe tbody tr th:only-of-type {\n",
       "        vertical-align: middle;\n",
       "    }\n",
       "\n",
       "    .dataframe tbody tr th {\n",
       "        vertical-align: top;\n",
       "    }\n",
       "\n",
       "    .dataframe thead th {\n",
       "        text-align: right;\n",
       "    }\n",
       "</style>\n",
       "<table border=\"1\" class=\"dataframe\">\n",
       "  <thead>\n",
       "    <tr style=\"text-align: right;\">\n",
       "      <th></th>\n",
       "      <th>Water Temp</th>\n",
       "      <th>Detergent A</th>\n",
       "      <th>Detergent B</th>\n",
       "      <th>Detergent C</th>\n",
       "    </tr>\n",
       "  </thead>\n",
       "  <tbody>\n",
       "    <tr>\n",
       "      <th>0</th>\n",
       "      <td>Cold Water</td>\n",
       "      <td>57</td>\n",
       "      <td>49</td>\n",
       "      <td>54</td>\n",
       "    </tr>\n",
       "    <tr>\n",
       "      <th>1</th>\n",
       "      <td>Worm Water</td>\n",
       "      <td>55</td>\n",
       "      <td>52</td>\n",
       "      <td>46</td>\n",
       "    </tr>\n",
       "    <tr>\n",
       "      <th>2</th>\n",
       "      <td>Hot Water</td>\n",
       "      <td>67</td>\n",
       "      <td>68</td>\n",
       "      <td>58</td>\n",
       "    </tr>\n",
       "  </tbody>\n",
       "</table>\n",
       "</div>"
      ],
      "text/plain": [
       "   Water Temp  Detergent A  Detergent B  Detergent C\n",
       "0  Cold Water           57           49           54\n",
       "1  Worm Water           55           52           46\n",
       "2   Hot Water           67           68           58"
      ]
     },
     "execution_count": 17,
     "metadata": {},
     "output_type": "execute_result"
    }
   ],
   "source": [
    "df =pd.DataFrame(data)\n",
    "df"
   ]
  },
  {
   "cell_type": "code",
   "execution_count": 18,
   "id": "0ad44939-bb0b-4579-9418-67a047cb407f",
   "metadata": {},
   "outputs": [
    {
     "name": "stdout",
     "output_type": "stream",
     "text": [
      "F-statistic: 0.6029143897996357\n",
      "p-value: 0.5773005027709032\n",
      "Fail to reject null hypothesis: There is no evidence of significant difference.\n"
     ]
    }
   ],
   "source": [
    "# Assuming you've corrected the missing value in 'Detergent B' (replace with actual value)\n",
    "fvalue, pvalue = stats.f_oneway(df['Detergent A'], df['Detergent B'], df['Detergent C'])\n",
    "\n",
    "# Print the results\n",
    "print(\"F-statistic:\", fvalue)\n",
    "print(\"p-value:\", pvalue)\n",
    "\n",
    "# Interpretation (adjust based on significance level):\n",
    "if pvalue < 0.05:\n",
    "    print(\"Reject null hypothesis: There is a significant difference between detergent means.\")\n",
    "else:\n",
    "    print(\"Fail to reject null hypothesis: There is no evidence of significant difference.\")\n"
   ]
  },
  {
   "cell_type": "markdown",
   "id": "d7c5f2ef-d933-4bfd-b54d-74dfc58da85d",
   "metadata": {},
   "source": [
    "#### 39.How would you create a basic Flask route that displays \"Hello, World!\" on the homepage?"
   ]
  },
  {
   "cell_type": "markdown",
   "id": "849dfc95-732e-4367-b583-f6d82ce9f3e0",
   "metadata": {},
   "source": [
    "Ans :"
   ]
  },
  {
   "cell_type": "markdown",
   "id": "477a6e19-1302-47e4-a7b6-4845f1c58289",
   "metadata": {},
   "source": [
    "from flask import Flask\n",
    "\n",
    "@app.route(\"/homepage\")\n",
    "\n",
    "def Main():\n",
    "\n",
    "    return \"Hello World !\"\n",
    "    \n",
    "    \n",
    "from above example we can create flask route"
   ]
  },
  {
   "cell_type": "markdown",
   "id": "93f0008c-be41-447e-b024-3e4f00b08c07",
   "metadata": {},
   "source": [
    "#### 40.Explain how to set up a Flask application to handle form submissions using POST requests."
   ]
  },
  {
   "cell_type": "markdown",
   "id": "458e1af6-9722-431a-a030-1bad5f4288a7",
   "metadata": {},
   "source": [
    "Ans :\n",
    "    \n",
    "    The form data is submitted using a POST method to the '/submission' route, which is routed to 'submission. html' through the flask app's trigger function and the forwarded form data. Here' request', which is imported from Flask, is used to access the form data in a flask application"
   ]
  },
  {
   "cell_type": "markdown",
   "id": "86fa3e63-83b4-46b4-a263-9d288634bdd9",
   "metadata": {},
   "source": [
    "#### 41.Write a Flask route that accepts a parameter in the URL and displays it on the page.\n"
   ]
  },
  {
   "cell_type": "markdown",
   "id": "b9a4d38b-e170-45dd-86b8-ff013c09eb34",
   "metadata": {},
   "source": [
    "Ans :\n",
    "    \n",
    "   `12.0.0.1:5000/?name =Hello world`  by using these route we can pass paramter in URL"
   ]
  },
  {
   "cell_type": "markdown",
   "id": "182045ad-390a-4dcc-bb35-0358f48133aa",
   "metadata": {},
   "source": [
    "#### 42.How can you implement user authentication in a Flask application?"
   ]
  },
  {
   "cell_type": "markdown",
   "id": "552a42ab-8667-43c5-b571-7c2ace8d36d4",
   "metadata": {},
   "source": [
    "Ans :\n",
    "    \n",
    "1. Use the Flask-Login library for session management\n",
    "2. Use the built-in Flask utility for hashing passwords\n",
    "3. Add protected pages to the app for logged in users only\n",
    "4. Use Flask-SQLAlchemy to create a User model\n",
    "5. Create sign-up and login forms for the users to create accounts and log in\n",
    "6. Flash error messages back to users when something goes wrong\n",
    "7. Use information from the user’s account to display on the profile page"
   ]
  },
  {
   "cell_type": "markdown",
   "id": "ab450ec3-b859-45a7-9404-52827e008670",
   "metadata": {},
   "source": [
    "#### 43.Describe the process of connecting a Flask app to a SQLite database using SQLAIchemy."
   ]
  },
  {
   "cell_type": "markdown",
   "id": "c7c5b367-b6aa-4934-a26e-4b530ddf2698",
   "metadata": {},
   "source": [
    "Ans :\n",
    "    \n",
    "    SQlite is installed on Linux systems by default, and is installed as part of the Python package on Windows.\n",
    "    \n",
    "Prerequisites.\n",
    "\n",
    "Step 1 — Installing Flask and Flask-SQLAlchemy.\n",
    "\n",
    "Step 2 — Setting up the Database and Model.\n",
    "\n",
    "Step 3 — Displaying All Records.\n",
    "\n",
    "Step 4 — Displaying a Single Record.\n",
    "\n",
    "Step 5 — Creating a New Record."
   ]
  },
  {
   "cell_type": "markdown",
   "id": "2e129c86-3c7d-48f8-8812-9fda223508dc",
   "metadata": {},
   "source": [
    "#### 44.How would you create a RESTful API endpoint in Flask that returns JSON data?"
   ]
  },
  {
   "cell_type": "markdown",
   "id": "0f5e8cf5-19c8-4fce-909c-362bd727d64f",
   "metadata": {},
   "source": [
    "from flask import Flask, jsonify\n",
    "\n",
    "app = Flask(__name__)\n",
    "\n",
    "data = {\n",
    "    \"message\": \"Hello, world!\",\n",
    "    \"items\": [1, 2, 3]\n",
    "}\n",
    "\n",
    "@app.route('/api/data', methods=['GET'])\n",
    "\n",
    "def get_data():\n",
    "\n",
    "    return jsonify(data)\n",
    "\n",
    "if __name__ == '__main__':\n",
    "\n",
    "    app.run(debug=True)\n",
    "    \n",
    "\n",
    "We can create restful api using json data."
   ]
  },
  {
   "cell_type": "markdown",
   "id": "8c4f169a-f592-4752-86fd-61598ba66bf2",
   "metadata": {},
   "source": [
    "#### 45.Explain how to use Flask-WTF to create and validate forms in a Flask application."
   ]
  },
  {
   "cell_type": "markdown",
   "id": "887e8eca-59c2-4163-a4dd-4ea3248abf3d",
   "metadata": {},
   "source": [
    "Ans :\n",
    "    \n",
    "    Flask-WTF is a Flask extension that makes working with web forms in Flask applications easier. It is based on the WTForms library, which provides a powerful and flexible way to define and validate forms.\n",
    "Here's a step-by-step guide on using Flask-WT\n",
    "\n",
    "1. Installation:\n",
    "Install Flask-WTF using pip: pip install Flask-WTF\n",
    "\n",
    "2. Creating a Form:\n",
    "Create a Python class that inherits from FlaskForm. Inside this class, define the form fields using WTForms field types.\n",
    "\n",
    "\n",
    "3. Using the Form in a Template:\n",
    "In your Flask route, create an instance of the form and pass it to the template\n",
    "\n",
    "4. Validating Form Data:\n",
    "The validate_on_submit() method in your route handles form validation. If the form is submitted and all validations pass, it returns True. Otherwise, it returns False, and you can access the validation errors in the template using form.field_name.errors.\n",
    "Flask-WTF simplifies the process of creating and validating forms in Flask applications significantly. It provides a clean and easy-to-use interface for working with forms, making your web applications more robust and secure."
   ]
  },
  {
   "cell_type": "markdown",
   "id": "b3fe680d-2128-4ccc-8999-912b3c7ff7ee",
   "metadata": {
    "tags": []
   },
   "source": [
    "#### 46.How can you implement file uploads in a Flask application?"
   ]
  },
  {
   "cell_type": "markdown",
   "id": "d1212a8c-90e4-4cc6-881c-ef99aaa89fc1",
   "metadata": {},
   "source": [
    "Ans :"
   ]
  },
  {
   "cell_type": "markdown",
   "id": "d0d95a68-d0ed-4897-8c6b-420f539506ab",
   "metadata": {},
   "source": [
    "from distutils.log import debug \n",
    "from fileinput import filename \n",
    "from flask import *\n",
    "app = Flask(__name__) \n",
    "\n",
    "@app.route('/') \n",
    "def main(): \n",
    "\treturn render_template(\"index.html\") \n",
    "\n",
    "@app.route('/success', methods = ['POST']) \n",
    "def success(): \n",
    "\tif request.method == 'POST': \n",
    "\t\tf = request.files['file'] \n",
    "\t\tf.save(f.filename) \n",
    "\t\treturn render_template(\"Acknowledgement.html\", name = f.filename) \n",
    "\n",
    "if __name__ == '__main__': \n",
    "\tapp.run(debug=True)\n"
   ]
  },
  {
   "cell_type": "markdown",
   "id": "68effbcb-bfb0-452b-a091-cb4156359720",
   "metadata": {},
   "source": [
    "By using these code we can upload file in the in flask implementation"
   ]
  },
  {
   "cell_type": "markdown",
   "id": "37f8d783-fa1d-40e3-b449-ddc393e41a0f",
   "metadata": {},
   "source": [
    "#### 47.Describe the steps to create a Flask blueprint and why you might use one."
   ]
  },
  {
   "cell_type": "markdown",
   "id": "0c54e472-2e81-4bd7-858b-88ca830c029b",
   "metadata": {
    "tags": []
   },
   "source": [
    "from flask import Blueprint\n",
    "\n",
    "+  Create a blueprint object\n",
    "my_blueprint = Blueprint('blueprint_name', __name__)\n",
    "\n",
    "+  Define routes within the blueprint\n",
    "@my_blueprint.route('/route_within_blueprint')\n",
    "def some_function():\n",
    "    return 'This route is part of the blueprint!'"
   ]
  },
  {
   "cell_type": "markdown",
   "id": "223ee892-1c53-4cba-a271-dbb829afeb07",
   "metadata": {},
   "source": [
    "### Registering Blue print"
   ]
  },
  {
   "cell_type": "markdown",
   "id": "09bce1d4-9dd3-40cd-ac86-0b8ed816a8e7",
   "metadata": {},
   "source": [
    "from flask import Flask\n",
    "from .blueprints import my_blueprint  # Import your blueprint\n",
    "\n",
    "app = Flask(__name__)\n",
    "\n",
    "# Register the blueprint with the app\n",
    "app.register_blueprint(my_blueprint, url_prefix='/prefix')"
   ]
  },
  {
   "cell_type": "markdown",
   "id": "71ffd6f7-63c3-40ed-b1bb-0bb3124479f2",
   "metadata": {},
   "source": [
    "#### 48.How would you deploy a Flask application to a production server using Gunicorn and Nginx?"
   ]
  },
  {
   "cell_type": "markdown",
   "id": "da4100b1-61ae-4ce5-9b76-831c20ac0709",
   "metadata": {},
   "source": [
    "##### Deployement our project on render cloud\n",
    "1). Render Deployment\n",
    "- Will push our project in github.\n",
    "- Create a new repository in github.Open you cmd, be in\n",
    "yourproject folder first then run the below commands:\n",
    "- git init\n",
    "- git add .\n",
    "- git commit -m \"first commit\"\n",
    "- git branch -M main\n",
    "- git remote add origin 'your own .git' file(like this gitremote\n",
    "add origin https://github.com/vikash130795/era.git) - git\n",
    "push -u origin main\n",
    "In last command, it'll ask for token.\n",
    "- On right-hand side at the top, you'll get your profile in\n",
    "whichyou'll get 'Settings' option.\n",
    "- After clicking on 'Settings', it will redirect us to next page.\n",
    "On the left-hand side at bottom 'Developer settings' is there.\n",
    "- Then, select 'Personal access tokens' in which you\n",
    "can'Generate new token'.\n",
    "- Place the generated token in the last command option,\n",
    "yourproject would be pushed in your github repository"
   ]
  },
  {
   "cell_type": "markdown",
   "id": "8a7d8a89-ed73-4e8e-ae74-c8ffab37942d",
   "metadata": {},
   "source": [
    "- Do sign-up in render through this link\n",
    "https://dashboard.render.com/#\n",
    "- If account is created and verification is done. Then you will\n",
    "get an interface like below link.\n"
   ]
  },
  {
   "cell_type": "markdown",
   "id": "4171f1e2-24b2-4f28-a830-482de18dbf47",
   "metadata": {},
   "source": [
    "U will get these window --->\n",
    "https://dashboard.render.com/"
   ]
  },
  {
   "cell_type": "markdown",
   "id": "8da521cf-0aa2-4d00-b580-988536674133",
   "metadata": {},
   "source": [
    "- Click on ‘New’ button, you will get an option of ‘Web\n",
    "Services’, click on it.\n",
    "- You need to connect your Github with render. Check below\n",
    "link for reference."
   ]
  },
  {
   "cell_type": "markdown",
   "id": "5b0164f7-a0dc-4e31-94ef-98e574ba9b74",
   "metadata": {},
   "source": [
    "- Connect your Github with render then you will get an\n",
    "option of your recent repository."
   ]
  },
  {
   "cell_type": "markdown",
   "id": "4318af30-b432-4eb1-8c79-59d2bbb7ece7",
   "metadata": {},
   "source": [
    "- Click on ‘Connect’ button, then you will get options for\n",
    "adding some details"
   ]
  },
  {
   "cell_type": "markdown",
   "id": "21d8bc75-6efb-45de-871a-956e49662bd9",
   "metadata": {},
   "source": [
    "Add your app name as we have taken ‘review12’ as app\n",
    "name. You can take app name as per your choice.\n",
    "In Start Command, we have taken gunicorn app:app, right\n",
    "side is a name of your API file, like ours API file name is ‘app’.\n",
    "- If everything is set, scroll down and click on ‘Create Web\n",
    "Service’ button. Wait for some time then your app would be\n",
    "deployed, and link should be shown at the top, check below\n",
    "screenshot for reference"
   ]
  },
  {
   "cell_type": "markdown",
   "id": "02607f06-c4b9-494e-baed-a789a5eee256",
   "metadata": {},
   "source": [
    "#### 49. Make a fully functional web application using flask, Mangodb. Signup,Signin page.And after successfully login .Say hello Geeks message at webpage."
   ]
  },
  {
   "cell_type": "markdown",
   "id": "c5aa6924-d273-4ce6-a0ee-698aab36b3f3",
   "metadata": {},
   "source": [
    "Ans :\n",
    "\n",
    "\n",
    "Created fully functional web application which available in directory name is my_app."
   ]
  },
  {
   "cell_type": "markdown",
   "id": "4d0e0243-5994-4972-b945-81d18d7f0e2f",
   "metadata": {},
   "source": [
    "# 50.Machine Learning:"
   ]
  },
  {
   "cell_type": "markdown",
   "id": "5744bf0e-3be1-4092-8836-7662d0c3ebda",
   "metadata": {
    "tags": []
   },
   "source": [
    "+ #### What is the difference between Series & Datatrames .\n",
    "\n",
    "A Series is a one-dimensional array-like object containing a sequence of values.\n",
    "Each value in a Series has an associated label (index).\n",
    "It can hold any data type (integers, strings, floating-point numbers, etc.).\n",
    "Series are similar to columns in a DataFrame.\n",
    "DataFrame:\n",
    "\n",
    "+ #### A DataFrame is a two-dimensional, size-mutable, and heterogeneous tabular data structure with labeled axes (rows and columns).\n",
    "It can be seen as a collection of Series objects sharing the same index.\n",
    "Each column in a DataFrame can be of a different data type.\n",
    "DataFrames are akin to a table in a relational database or an Excel spreadsheet.\n",
    "Creating and Reading a Table in MySQL with Pandas\n",
    "First, let's create the Travel_Planner database and bookings table in MySQL:\n",
    "\n",
    "sql\n",
    "Copy code\n",
    "CREATE DATABASE Travel_Planner;\n",
    "\n",
    "USE Travel_Planner;\n",
    "\n",
    "CREATE TABLE bookings (\n",
    "    user_id INT,\n",
    "    flight_id INT,\n",
    "    hotel_id INT,\n",
    "    activity_id INT,\n",
    "    booking_date DATE\n",
    ");\n",
    "\n",
    "INSERT INTO bookings (user_id, flight_id, hotel_id, activity_id, booking_date) VALUES\n",
    "(1, 101, 201, 301, '2024-07-01'),\n",
    "(2, 102, 202, 302, '2024-07-02'),\n",
    "(3, 103, 203, 303, '2024-07-03'),\n",
    "(4, 104, 204, 304, '2024-07-04'),\n",
    "(5, 105, 205, 305, '2024-07-05');\n",
    "Now, to read the contents of this table using Pandas:\n",
    "\n",
    "python\n",
    "Copy code\n",
    "import pandas as pd\n",
    "import mysql.connector\n",
    "\n",
    "+ Establishing the connection\n",
    "conn = mysql.connector.connect(\n",
    "    host='localhost',\n",
    "    user='your_username',\n",
    "    password='your_password',\n",
    "    database='Travel_Planner'\n",
    ")\n",
    "\n",
    "+ Reading the table into a DataFrame\n",
    "query = \"SELECT * FROM bookings;\"\n",
    "bookings_df = pd.read_sql(query, conn)\n",
    "\n",
    "+ Closing the connection\n",
    "conn.close()\n",
    "\n",
    "+ Displaying the DataFrame\n",
    "print(bookings_df)\n",
    "\n",
    "\n",
    "#### Difference between loc and iloc \n",
    "\n",
    "loc:\n",
    "\n",
    "Label-based indexing.\n",
    "Used to access a group of rows and columns by labels or a boolean array.\n",
    "df.loc[2] selects the row with the index label 2.\n",
    "iloc:\n",
    "\n",
    "Integer-based indexing.\n",
    "Used to access a group of rows and columns by integer positions.\n",
    "df.iloc[2] selects the third row (index starts from 0).\n",
    "\n",
    "\n",
    "#### Difference between Supervised and Unsupervised Learning\n",
    "+ Supervised Learning:\n",
    "\n",
    "The algorithm is trained on labeled data.\n",
    "The goal is to learn a mapping from inputs to outputs.\n",
    "Examples include regression and classification.\n",
    "\n",
    "\n",
    "+ Unsupervised Learning:\n",
    "\n",
    "The algorithm is trained on unlabeled data.\n",
    "The goal is to find hidden patterns or intrinsic structures.\n",
    "Examples include clustering and dimensionality reduction.\n",
    "\n",
    "\n",
    "#### Explain Bias-Variance Tradeoff\n",
    "\n",
    "+ Bias:\n",
    "\n",
    "Error due to overly simplistic assumptions in the learning algorithm.\n",
    "High bias can cause underfitting.\n",
    "\n",
    "+ Variance:\n",
    "\n",
    "Error due to too much complexity in the learning algorithm.\n",
    "High variance can cause overfitting.\n",
    "\n",
    "+ Tradeoff:\n",
    "\n",
    "A model with low bias and low variance is ideal.\n",
    "In practice, increasing model complexity decreases bias but increases variance and vice versa.\n",
    "The goal is to find the optimal balance.\n",
    "\n",
    "#### What are Precision and Recall\n",
    "\n",
    "+ Precision:\n",
    "\n",
    "The ratio of true positive predictions to the total predicted positives.\n",
    "Precision = TP / (TP + FP)\n",
    "\n",
    "+ Recall:\n",
    "\n",
    "The ratio of true positive predictions to the actual positives.\n",
    "Recall = TP / (TP + FN)\n",
    "\n",
    "+ Accuracy:\n",
    "\n",
    "The ratio of correct predictions to the total predictions.\n",
    "Accuracy = (TP + TN) / (TP + TN + FP + FN)\n",
    "\n",
    "#### what is Overfitting and How to Prevent It\n",
    "\n",
    "+ Overfitting:\n",
    "\n",
    "When a model learns the noise in the training data instead of the actual pattern.\n",
    "It performs well on the training data but poorly on new data.\n",
    "\n",
    "+ Prevention:\n",
    "\n",
    "Use cross-validation.\n",
    "Simplify the model (reduce complexity).\n",
    "Use regularization techniques.\n",
    "Collect more training data.\n",
    "Prune the model (in decision trees).\n",
    "\n",
    "#### What is  Cross-Validation Concept:\n",
    "\n",
    "A technique to evaluate the generalizability of a model.\n",
    "The dataset is divided into k subsets (folds).\n",
    "The model is trained on k-1 folds and tested on the remaining fold.\n",
    "This process is repeated k times, each time with a different fold as the test set.\n",
    "The results are averaged to get a more accurate evaluation.\n",
    "\n",
    "\n",
    "#### Difference between Classification and Regression\n",
    "\n",
    "+ Classification:\n",
    "\n",
    "Predicts discrete class labels.\n",
    "Examples: Spam detection, disease diagnosis.\n",
    "\n",
    "+ Regression:\n",
    "\n",
    "Predicts continuous values.\n",
    "Examples: House price prediction, temperature forecasting.\n",
    "\n",
    "\n",
    "#### Explain the concept of Ensemble Learning\n",
    "\n",
    "+ Concept:\n",
    "Combines multiple models to improve performance.\n",
    "Types include bagging, boosting, and stacking.\n",
    "Reduces overfitting and improves generalization.\n",
    "\n",
    "##### Describe the difference between batch gradient descent and stochastic gradient descent.\n",
    "\n",
    "+ Gradient Descent\n",
    "Concept:\n",
    "An optimization algorithm to minimize the cost function.\n",
    "Iteratively adjusts the parameters in the direction of the negative gradient.\n",
    "Types: Batch Gradient Descent, Stochastic Gradient Descent, Mini-batch Gradient Descent.\n",
    "\n",
    "+ Batch Gradient Descent vs. Stochastic Gradient Descent\n",
    "Batch Gradient Descent:\n",
    "\n",
    "Uses the entire dataset to compute the gradient.\n",
    "Converges to the minimum but can be slow and requires a lot of memory.\n",
    "Stochastic Gradient Descent:\n",
    "\n",
    "Uses a single training example to compute the gradient.\n",
    "Faster and more memory-efficient.\n",
    "Can be noisy and may not converge to the global minimum.\n",
    "\n",
    "\n",
    "##### What is the curse of dimensionality in machine learning?\n",
    "Concept:\n",
    "As the number of features increases, the volume of the feature space increases exponentially.\n",
    "Data points become sparse, and the distance between them increases.\n",
    "Models become harder to train and may suffer from overfitting.\n",
    "+ L1 vs. L2 Regularization\n",
    "+ L1 Regularization (Lasso):\n",
    "\n",
    "Adds the absolute values of the coefficients to the cost function.\n",
    "Can result in sparse models (feature selection).\n",
    "+ L2 Regularization (Ridge):\n",
    "\n",
    "Adds the squared values of the coefficients to the cost function.\n",
    "Tends to shrink coefficients but doesn’t set them to zero.\n",
    "\n",
    "\n",
    "##### What is a confusion matrix and how is it used? Define AUC-ROC curve\n",
    "\n",
    "+ Concept:\n",
    "A table used to evaluate the performance of a classification model.\n",
    "Contains true positives, true negatives, false positives, and false negatives.\n",
    "Helps calculate precision, recall, accuracy, and other metrics.\n",
    "\n",
    "+ AUC-ROC Curve\n",
    "Concept:\n",
    "ROC (Receiver Operating Characteristic) curve plots true positive rate vs. false positive rate.\n",
    "AUC (Area Under the Curve) measures the area under the ROC curve.\n",
    "AUC-ROC indicates the model's ability to distinguish between classes.\n",
    "\n",
    "##### Explain the k-nearest neighbors algorithm.\n",
    "\n",
    "Concept:\n",
    "A non-parametric, instance-based learning algorithm.\n",
    "Classifies a data point based on the majority class of its k nearest neighbors.\n",
    "Uses distance metrics like Euclidean distance.\n",
    "\n",
    "##### Explain the basic concept of a Support Vector Machine (SVM).How does the kernel trick work in SVM?\n",
    "\n",
    "Concept:\n",
    "A supervised learning algorithm for classification and regression.\n",
    "Finds the optimal hyperplane that maximizes the margin between classes.\n",
    "Uses support vectors (data points closest to the hyperplane).\n",
    "\n",
    "\n",
    "#### What are the different types of kernels used in SVM and when would you use each? What is the hyperplane in SVM and how is it determined?\n",
    "\n",
    "Concept:\n",
    "Transforms data into a higher-dimensional space to make it linearly separable.\n",
    "Common kernels: Linear, Polynomial, Radial Basis Function (RBF).\n",
    "Types of Kernels in SVM\n",
    "Linear Kernel:\n",
    "Used when the data is linearly separable.\n",
    "Polynomial Kernel:\n",
    "Suitable for non-linear data.\n",
    "RBF Kernel:\n",
    "Handles complex, non-linear data.\n",
    "Hyperplane in SVM\n",
    "Concept:\n",
    "The decision boundary separating different classes.\n",
    "Determined by maximizing the margin between support vectors.\n",
    "\n",
    "\n",
    "#### What are the pros and cons of using a Support Vector Machine (SVM)?\n",
    "Pros:\n",
    "\n",
    "Effective in high-dimensional spaces.\n",
    "Works well with a clear margin of separation.\n",
    "Cons:\n",
    "\n",
    "Not suitable for large datasets.\n",
    "Sensitive to the choice of kernel and parameters.\n",
    "\n",
    "\n",
    "#### Explain the difference between a hard margin and a soft margin SVM,\n",
    "Hard Margin:\n",
    "\n",
    "No misclassification allowed.\n",
    "Works only if data is linearly separable.\n",
    "Soft Margin:\n",
    "\n",
    "Allows some misclassification to handle non-linear data.\n",
    "Controlled by a parameter (C).\n",
    "\n",
    "#### Describe the process of constructing a decision tree\n",
    "\n",
    "Starts with the entire dataset as the root.\n",
    "Splits the data based on the feature that provides the highest information gain.\n",
    "Repeats the process recursively for each child node until a stopping criterion is met.\n",
    "\n",
    "\n",
    "#### Describe the working principle of a decision tree,\n",
    "\n",
    "Concept:\n",
    "Splits data into subsets based on feature values.\n",
    "Each node represents a feature, and each branch represents a decision.\n",
    "Leaf nodes represent the final class labels.\n",
    "\n",
    "#### What is information gain and how is it used in decision trees?\n",
    "+ Information Gain\n",
    "Concept:\n",
    "Measures the reduction in entropy after splitting the data.\n",
    "Used to decide the best feature for splitting.\n",
    "Information Gain = Entropy(parent) - Weighted Sum of Entropy(children).\n",
    "\n",
    "#### Explain Gini impurity and its role in decision trees.\n",
    "+ Gini Impurity\n",
    "Concept:\n",
    "Measures the likelihood of incorrect classification of a randomly chosen element.\n",
    "Used to create splits in decision trees.\n",
    "Gini Impurity = 1 - Sum of (probability of each class)^2.\n",
    "\n",
    "\n",
    "#### What are the advantages and disadvantages of decision trees?\n",
    "+ Advantages and Disadvantages of Decision Trees\n",
    "Advantages:\n",
    "\n",
    "Easy to interpret and visualize.\n",
    "Can handle both numerical and categorical data.\n",
    "Disadvantages:\n",
    "\n",
    "Prone to overfitting.\n",
    "Sensitive to small changes in data.\n",
    "\n",
    "\n",
    "#### How do random forests improve upon decision trees?\n",
    "Concept:\n",
    "An ensemble method that constructs multiple decision trees.\n",
    "Aggregates their predictions to improve accuracy and reduce overfitting.\n",
    "\n",
    "#### How does a random forest algorithm work?\n",
    "\n",
    "Process:\n",
    "Creates multiple bootstrap samples from the training data.\n",
    "Builds a decision tree for each sample.\n",
    "Aggregates the predictions (majority voting for classification, averaging for regression).\n",
    "\n",
    "\n",
    "#### What is bootstrapping in the context of random forests?\n",
    "Concept:\n",
    "Random sampling with replacement.\n",
    "Each tree is trained on a different subset of the data.\n",
    "\n",
    "\n",
    "#### Explain the concept of feature importance in random forests.\n",
    "Concept:\n",
    "Measures the importance of each feature in making predictions.\n",
    "Calculated based on the reduction in impurity (Gini or entropy).\n",
    "Logistic Regression Model\n",
    "Concept:\n",
    "A linear model used for binary classification.\n",
    "Uses the logistic function (sigmoid) to map predictions to probabilities.\n",
    "\n",
    "#### What are the key hyperparameters of a random forest and how do they affect the model?t\n",
    "\n",
    "+ Concept:\n",
    "\n",
    "Number of trees (n_estimators): More trees increase accuracy but also computational cost.\n",
    "Maximum depth (max_depth): Limits the depth of the trees to prevent overfitting.\n",
    "Minimum samples split (min_samples_split): Minimum number of samples required to split an internal node.\n",
    "\n",
    "\n",
    "#### Describe the logistic regression model and its assumptions.\n",
    "Concept:\n",
    "Uses the logistic function to model the probability of the default class.\n",
    "Thresholding the probability to make a final classification.\n",
    "\n",
    "### How does logistic regression handle binary classification problems?\n",
    "Concept:\n",
    "Maps input values to a range between 0 and 1.\n",
    "\n",
    "#### What is the sigmoid function and how is it used in logistic regression?\n",
    "𝜎(𝑧)=1+−𝑧\n",
    "σ(z)= 1+e −z\n",
    " \n",
    "#### Explain the concept of the cost function in logistic regression.\n",
    "\n",
    "Concept:\n",
    "Measures the difference between predicted and actual values.\n",
    "Logistic regression uses the binary cross-entropy loss function.\n",
    "\n",
    "\n",
    "#### How can logistic regression be extended to handle multiclass classification?\n",
    "\n",
    "Uses one-vs-rest or softmax (multinomial logistic regression) to handle multiple classes.\n",
    "\n",
    "#### What is the difference between LI and L2 regularization in logistic regression?\n",
    "\n",
    "Concept:\n",
    "L1 Regularization (Lasso): Adds the absolute values of coefficients.\n",
    "L2 Regularization (Ridge): Adds the squared values of coefficients.\n",
    "\n",
    "#### What is XGBoost and how does it differ frorm other boosting algorithms?\n",
    "\n",
    "Concept:\n",
    "An optimized gradient boosting algorithm.\n",
    "Faster and more efficient than traditional boosting methods.\n",
    "\n",
    "#### Explain the concept of boosting in the context of ensemble learning.\n",
    "+ How does XGBoost handle missing values?\n",
    "Concept:\n",
    "Sequentially builds models that correct errors of previous models.\n",
    "Reduces bias and variance.\n",
    "+ Handling Missing Values in XGBoost\n",
    "Concept:\n",
    "Automatically handles missing data by learning the best imputation.\n",
    "\n",
    "#### What are the key hyperparameters in XGBoost and how do they affect model performance?\n",
    "\n",
    "Concept:\n",
    "Learning rate (eta): Controls the contribution of each tree.\n",
    "Number of trees (n_estimators): Controls the number of boosting rounds.\n",
    "Maximum depth (max_depth): Limits the depth of individual trees.\n",
    "\n",
    "#### Describe the process of gradient boosting in XGBoost.\n",
    "Concept:\n",
    "Builds models sequentially, each one correcting the errors of its predecessor.\n",
    "Uses gradient descent to minimize the loss function.\n",
    "\n",
    "\n",
    "#### What are the advantages and disadvantages of using XGBoost?\n",
    " \n",
    "+ Advantages:\n",
    "\n",
    "High performance and speed.\n",
    "Handles missing data well.\n",
    "Supports regularization.\n",
    "\n",
    "+ Disadvantages:\n",
    "\n",
    "Complex to tune.\n",
    "Can be computationally expensive."
   ]
  },
  {
   "cell_type": "code",
   "execution_count": null,
   "id": "2f79ecd0-dde8-43d0-9a23-0171cd0a4585",
   "metadata": {},
   "outputs": [],
   "source": []
  },
  {
   "cell_type": "code",
   "execution_count": null,
   "id": "9463d277-e5f2-4c54-9ff8-f8439795390a",
   "metadata": {},
   "outputs": [],
   "source": []
  },
  {
   "cell_type": "code",
   "execution_count": null,
   "id": "fba434eb-a9f2-442b-92e5-e435147459b8",
   "metadata": {},
   "outputs": [],
   "source": []
  },
  {
   "cell_type": "code",
   "execution_count": null,
   "id": "0c3d47b5-3221-4a1b-86d2-e5c33afd3800",
   "metadata": {},
   "outputs": [],
   "source": []
  }
 ],
 "metadata": {
  "kernelspec": {
   "display_name": "Python 3 (ipykernel)",
   "language": "python",
   "name": "python3"
  },
  "language_info": {
   "codemirror_mode": {
    "name": "ipython",
    "version": 3
   },
   "file_extension": ".py",
   "mimetype": "text/x-python",
   "name": "python",
   "nbconvert_exporter": "python",
   "pygments_lexer": "ipython3",
   "version": "3.9.19"
  }
 },
 "nbformat": 4,
 "nbformat_minor": 5
}
